{
  "cells": [
    {
      "cell_type": "code",
      "execution_count": 1,
      "metadata": {
        "colab": {
          "base_uri": "https://localhost:8080/"
        },
        "id": "7ZUdz2Ap9KCx",
        "outputId": "54af7af2-dddb-48ee-a8d8-d440a866ab95"
      },
      "outputs": [
        {
          "output_type": "stream",
          "name": "stdout",
          "text": [
            "Requirement already satisfied: kagglehub in /usr/local/lib/python3.10/dist-packages (0.3.5)\n",
            "Requirement already satisfied: packaging in /usr/local/lib/python3.10/dist-packages (from kagglehub) (24.2)\n",
            "Requirement already satisfied: requests in /usr/local/lib/python3.10/dist-packages (from kagglehub) (2.32.3)\n",
            "Requirement already satisfied: tqdm in /usr/local/lib/python3.10/dist-packages (from kagglehub) (4.67.1)\n",
            "Requirement already satisfied: charset-normalizer<4,>=2 in /usr/local/lib/python3.10/dist-packages (from requests->kagglehub) (3.4.0)\n",
            "Requirement already satisfied: idna<4,>=2.5 in /usr/local/lib/python3.10/dist-packages (from requests->kagglehub) (3.10)\n",
            "Requirement already satisfied: urllib3<3,>=1.21.1 in /usr/local/lib/python3.10/dist-packages (from requests->kagglehub) (2.2.3)\n",
            "Requirement already satisfied: certifi>=2017.4.17 in /usr/local/lib/python3.10/dist-packages (from requests->kagglehub) (2024.12.14)\n"
          ]
        }
      ],
      "source": [
        "!pip install kagglehub"
      ]
    },
    {
      "cell_type": "code",
      "execution_count": 2,
      "metadata": {
        "colab": {
          "base_uri": "https://localhost:8080/"
        },
        "id": "nFJHT3PKAVAM",
        "outputId": "55090ce5-6b22-4d2a-93ac-d89e235c9966"
      },
      "outputs": [
        {
          "output_type": "stream",
          "name": "stdout",
          "text": [
            "Warning: Looks like you're using an outdated `kagglehub` version (installed: 0.3.5), please consider upgrading to the latest version (0.3.6).\n",
            "Path to dataset files: /root/.cache/kagglehub/datasets/kritikseth/fruit-and-vegetable-image-recognition/versions/8\n"
          ]
        }
      ],
      "source": [
        "import kagglehub\n",
        "\n",
        "# Download the dataset from Kaggle\n",
        "path = kagglehub.dataset_download(\"kritikseth/fruit-and-vegetable-image-recognition\")\n",
        "\n",
        "# Print the dataset path\n",
        "print(\"Path to dataset files:\", path)"
      ]
    },
    {
      "cell_type": "code",
      "execution_count": 3,
      "metadata": {
        "colab": {
          "base_uri": "https://localhost:8080/"
        },
        "id": "bRwhBp_rAmmI",
        "outputId": "09b80a1e-99e2-496a-d688-989510c8cdef"
      },
      "outputs": [
        {
          "output_type": "stream",
          "name": "stdout",
          "text": [
            "Directory: /root/.cache/kagglehub/datasets/kritikseth/fruit-and-vegetable-image-recognition/versions/8\n",
            "Subdirectories: ['validation', 'train', 'test']\n",
            "Files: []\n",
            "----------------------------------------\n",
            "Directory: /root/.cache/kagglehub/datasets/kritikseth/fruit-and-vegetable-image-recognition/versions/8/validation\n",
            "Subdirectories: ['sweetpotato', 'cucumber', 'eggplant', 'onion', 'peas', 'garlic', 'sweetcorn', 'lemon', 'carrot', 'pomegranate', 'watermelon', 'corn', 'pear', 'beetroot', 'grapes', 'orange', 'apple', 'jalepeno', 'potato', 'cabbage', 'turnip', 'pineapple', 'lettuce', 'raddish', 'soy beans', 'spinach', 'bell pepper', 'banana', 'mango', 'ginger', 'cauliflower', 'chilli pepper', 'capsicum', 'tomato', 'kiwi', 'paprika']\n",
            "Files: []\n",
            "----------------------------------------\n",
            "Directory: /root/.cache/kagglehub/datasets/kritikseth/fruit-and-vegetable-image-recognition/versions/8/validation/sweetpotato\n",
            "Subdirectories: []\n",
            "Files: ['Image_7.jpg', 'Image_1.jpg', 'Image_5.jpg', 'Image_3.jpg', 'Image_2.jpg', 'Image_8.jpg', 'Image_4.jpg', 'Image_9.jpg', 'Image_6.jpg', 'Image_10.jpg']\n",
            "----------------------------------------\n",
            "Directory: /root/.cache/kagglehub/datasets/kritikseth/fruit-and-vegetable-image-recognition/versions/8/validation/cucumber\n",
            "Subdirectories: []\n",
            "Files: ['Image_7.jpg', 'Image_1.jpg', 'Image_5.jpg', 'Image_3.jpg', 'Image_2.jpg', 'Image_8.jpg', 'Image_4.jpg', 'Image_9.jpg', 'Image_6.jpg', 'Image_10.jpg']\n",
            "----------------------------------------\n",
            "Directory: /root/.cache/kagglehub/datasets/kritikseth/fruit-and-vegetable-image-recognition/versions/8/validation/eggplant\n",
            "Subdirectories: []\n",
            "Files: ['Image_7.jpg', 'Image_1.jpg', 'Image_5.jpg', 'Image_3.jpg', 'Image_2.jpg', 'Image_8.jpg', 'Image_4.jpg', 'Image_9.jpg', 'Image_6.jpg', 'Image_10.jpg']\n",
            "----------------------------------------\n",
            "Directory: /root/.cache/kagglehub/datasets/kritikseth/fruit-and-vegetable-image-recognition/versions/8/validation/onion\n",
            "Subdirectories: []\n",
            "Files: ['Image_1.jpg', 'Image_5.jpg', 'Image_3.jpg', 'Image_2.jpg', 'Image_7.png', 'Image_8.jpg', 'Image_4.jpg', 'Image_9.jpg', 'Image_6.jpg', 'Image_10.jpg']\n",
            "----------------------------------------\n",
            "Directory: /root/.cache/kagglehub/datasets/kritikseth/fruit-and-vegetable-image-recognition/versions/8/validation/peas\n",
            "Subdirectories: []\n",
            "Files: ['Image_7.jpg', 'Image_1.jpg', 'Image_5.jpg', 'Image_3.jpg', 'Image_2.jpg', 'Image_8.jpg', 'Image_4.jpg', 'Image_9.jpg', 'Image_6.png', 'Image_10.jpg']\n",
            "----------------------------------------\n",
            "Directory: /root/.cache/kagglehub/datasets/kritikseth/fruit-and-vegetable-image-recognition/versions/8/validation/garlic\n",
            "Subdirectories: []\n",
            "Files: ['Image_7.jpg', 'Image_1.jpg', 'Image_5.jpg', 'Image_3.jpg', 'Image_2.jpg', 'Image_8.jpg', 'Image_4.jpg', 'Image_9.jpg', 'Image_6.jpg', 'Image_10.jpg']\n",
            "----------------------------------------\n",
            "Directory: /root/.cache/kagglehub/datasets/kritikseth/fruit-and-vegetable-image-recognition/versions/8/validation/sweetcorn\n",
            "Subdirectories: []\n",
            "Files: ['Image_7.jpg', 'Image_1.jpg', 'Image_5.jpg', 'Image_3.jpg', 'Image_2.jpg', 'Image_8.jpg', 'Image_4.jpg', 'Image_9.jpg', 'Image_6.jpg', 'Image_10.jpg']\n",
            "----------------------------------------\n",
            "Directory: /root/.cache/kagglehub/datasets/kritikseth/fruit-and-vegetable-image-recognition/versions/8/validation/lemon\n",
            "Subdirectories: []\n",
            "Files: ['Image_7.jpg', 'Image_5.jpg', 'Image_3.jpg', 'Image_2.jpg', 'Image_1.png', 'Image_8.jpg', 'Image_4.jpg', 'Image_6.png', 'Image_10.jpg', 'Image_9.png']\n",
            "----------------------------------------\n",
            "Directory: /root/.cache/kagglehub/datasets/kritikseth/fruit-and-vegetable-image-recognition/versions/8/validation/carrot\n",
            "Subdirectories: []\n",
            "Files: ['Image_1.jpg', 'Image_5.jpg', 'Image_3.jpg', 'Image_2.jpg', 'Image_7.JPG', 'Image_8.jpg', 'Image_4.png', 'Image_6.jpg', 'Image_10.jpg']\n",
            "----------------------------------------\n",
            "Directory: /root/.cache/kagglehub/datasets/kritikseth/fruit-and-vegetable-image-recognition/versions/8/validation/pomegranate\n",
            "Subdirectories: []\n",
            "Files: ['Image_7.jpg', 'Image_1.jpg', 'Image_5.jpg', 'Image_3.jpg', 'Image_2.jpg', 'Image_8.jpg', 'Image_4.jpg', 'Image_9.jpg', 'Image_6.jpg', 'Image_10.jpg']\n",
            "----------------------------------------\n",
            "Directory: /root/.cache/kagglehub/datasets/kritikseth/fruit-and-vegetable-image-recognition/versions/8/validation/watermelon\n",
            "Subdirectories: []\n",
            "Files: ['Image_7.jpg', 'Image_1.jpg', 'Image_5.jpg', 'Image_3.jpg', 'Image_2.jpg', 'Image_8.jpg', 'Image_4.jpg', 'Image_9.jpg', 'Image_6.jpg', 'Image_10.jpg']\n",
            "----------------------------------------\n",
            "Directory: /root/.cache/kagglehub/datasets/kritikseth/fruit-and-vegetable-image-recognition/versions/8/validation/corn\n",
            "Subdirectories: []\n",
            "Files: ['Image_7.jpg', 'Image_1.jpg', 'Image_5.jpg', 'Image_3.jpg', 'Image_2.jpg', 'Image_8.jpg', 'Image_4.jpg', 'Image_9.jpg', 'Image_6.jpg', 'Image_10.jpg']\n",
            "----------------------------------------\n",
            "Directory: /root/.cache/kagglehub/datasets/kritikseth/fruit-and-vegetable-image-recognition/versions/8/validation/pear\n",
            "Subdirectories: []\n",
            "Files: ['Image_7.jpg', 'Image_1.jpg', 'Image_5.jpg', 'Image_3.jpg', 'Image_2.jpg', 'Image_8.jpg', 'Image_4.jpg', 'Image_9.jpg', 'Image_6.jpg', 'Image_10.jpg']\n",
            "----------------------------------------\n",
            "Directory: /root/.cache/kagglehub/datasets/kritikseth/fruit-and-vegetable-image-recognition/versions/8/validation/beetroot\n",
            "Subdirectories: []\n",
            "Files: ['Image_7.jpg', 'Image_1.jpg', 'Image_5.jpg', 'Image_3.jpg', 'Image_2.jpg', 'Image_8.jpg', 'Image_4.jpg', 'Image_9.jpg', 'Image_6.jpg', 'Image_10.jpg']\n",
            "----------------------------------------\n",
            "Directory: /root/.cache/kagglehub/datasets/kritikseth/fruit-and-vegetable-image-recognition/versions/8/validation/grapes\n",
            "Subdirectories: []\n",
            "Files: ['Image_1.jpg', 'Image_3.jpg', 'Image_2.jpg', 'Image_7.JPG', 'Image_8.jpg', 'Image_4.jpg', 'Image_9.jpg', 'Image_6.jpg', 'Image_10.jpg']\n",
            "----------------------------------------\n",
            "Directory: /root/.cache/kagglehub/datasets/kritikseth/fruit-and-vegetable-image-recognition/versions/8/validation/orange\n",
            "Subdirectories: []\n",
            "Files: ['Image_7.jpg', 'Image_5.jpg', 'Image_3.jpg', 'Image_2.jpg', 'Image_1.png', 'Image_4.jpg', 'Image_9.jpg', 'Image_10.png', 'Image_6.jpg']\n",
            "----------------------------------------\n",
            "Directory: /root/.cache/kagglehub/datasets/kritikseth/fruit-and-vegetable-image-recognition/versions/8/validation/apple\n",
            "Subdirectories: []\n",
            "Files: ['Image_7.jpg', 'Image_1.jpg', 'Image_5.jpg', 'Image_3.jpg', 'Image_2.jpg', 'Image_6.JPG', 'Image_8.jpg', 'Image_4.jpg', 'Image_9.jpg', 'Image_10.jpg']\n",
            "----------------------------------------\n",
            "Directory: /root/.cache/kagglehub/datasets/kritikseth/fruit-and-vegetable-image-recognition/versions/8/validation/jalepeno\n",
            "Subdirectories: []\n",
            "Files: ['Image_7.jpg', 'Image_5.jpg', 'Image_3.jpg', 'Image_2.jpg', 'Image_8.jpg', 'Image_4.jpg', 'Image_9.jpg', 'Image_6.jpg', 'Image_10.jpg']\n",
            "----------------------------------------\n",
            "Directory: /root/.cache/kagglehub/datasets/kritikseth/fruit-and-vegetable-image-recognition/versions/8/validation/potato\n",
            "Subdirectories: []\n",
            "Files: ['Image_7.jpg', 'Image_1.jpg', 'Image_3.jpg', 'Image_2.jpg', 'Image_8.jpg', 'Image_4.jpg', 'Image_9.jpg', 'Image_5.JPG', 'Image_6.jpg', 'Image_10.jpg']\n",
            "----------------------------------------\n",
            "Directory: /root/.cache/kagglehub/datasets/kritikseth/fruit-and-vegetable-image-recognition/versions/8/validation/cabbage\n",
            "Subdirectories: []\n",
            "Files: ['Image_7.jpg', 'Image_1.jpg', 'Image_5.jpg', 'Image_3.jpg', 'Image_2.jpg', 'Image_8.jpg', 'Image_4.jpg', 'Image_9.jpg', 'Image_6.jpg', 'Image_10.jpg']\n",
            "----------------------------------------\n",
            "Directory: /root/.cache/kagglehub/datasets/kritikseth/fruit-and-vegetable-image-recognition/versions/8/validation/turnip\n",
            "Subdirectories: []\n",
            "Files: ['Image_7.jpg', 'Image_1.jpg', 'Image_5.jpg', 'Image_3.jpg', 'Image_2.jpg', 'Image_8.jpg', 'Image_4.jpg', 'Image_9.jpg', 'Image_6.jpg', 'Image_10.jpg']\n",
            "----------------------------------------\n",
            "Directory: /root/.cache/kagglehub/datasets/kritikseth/fruit-and-vegetable-image-recognition/versions/8/validation/pineapple\n",
            "Subdirectories: []\n",
            "Files: ['Image_7.jpg', 'Image_1.jpg', 'Image_5.jpg', 'Image_3.jpg', 'Image_2.jpg', 'Image_8.jpg', 'Image_4.jpg', 'Image_9.jpg', 'Image_6.jpg', 'Image_10.jpg']\n",
            "----------------------------------------\n",
            "Directory: /root/.cache/kagglehub/datasets/kritikseth/fruit-and-vegetable-image-recognition/versions/8/validation/lettuce\n",
            "Subdirectories: []\n",
            "Files: ['Image_7.jpg', 'Image_1.jpg', 'Image_3.jpg', 'Image_2.jpg', 'Image_8.jpg', 'Image_4.jpg', 'Image_9.jpg', 'Image_6.jpg', 'Image_10.jpg']\n",
            "----------------------------------------\n",
            "Directory: /root/.cache/kagglehub/datasets/kritikseth/fruit-and-vegetable-image-recognition/versions/8/validation/raddish\n",
            "Subdirectories: []\n",
            "Files: ['Image_7.jpg', 'Image_1.jpg', 'Image_3.jpg', 'Image_2.jpg', 'Image_8.jpg', 'Image_4.jpg', 'Image_5.png', 'Image_6.jpg', 'Image_10.jpg']\n",
            "----------------------------------------\n",
            "Directory: /root/.cache/kagglehub/datasets/kritikseth/fruit-and-vegetable-image-recognition/versions/8/validation/soy beans\n",
            "Subdirectories: []\n",
            "Files: ['Image_7.jpg', 'Image_1.jpg', 'Image_5.jpg', 'Image_3.jpg', 'Image_2.jpg', 'Image_8.jpg', 'Image_4.jpg', 'Image_9.jpg', 'Image_6.jpg', 'Image_10.jpg']\n",
            "----------------------------------------\n",
            "Directory: /root/.cache/kagglehub/datasets/kritikseth/fruit-and-vegetable-image-recognition/versions/8/validation/spinach\n",
            "Subdirectories: []\n",
            "Files: ['Image_7.jpg', 'Image_1.jpg', 'Image_5.jpg', 'Image_3.jpg', 'Image_2.jpg', 'Image_8.jpg', 'Image_4.jpg', 'Image_9.jpg', 'Image_6.jpg', 'Image_10.jpg']\n",
            "----------------------------------------\n",
            "Directory: /root/.cache/kagglehub/datasets/kritikseth/fruit-and-vegetable-image-recognition/versions/8/validation/bell pepper\n",
            "Subdirectories: []\n",
            "Files: ['Image_7.jpg', 'Image_1.jpg', 'Image_5.jpg', 'Image_2.jpg', 'Image_8.jpg', 'Image_4.jpg', 'Image_9.jpg', 'Image_6.jpg', 'Image_10.jpg']\n",
            "----------------------------------------\n",
            "Directory: /root/.cache/kagglehub/datasets/kritikseth/fruit-and-vegetable-image-recognition/versions/8/validation/banana\n",
            "Subdirectories: []\n",
            "Files: ['Image_1.jpg', 'Image_5.jpg', 'Image_3.jpg', 'Image_2.jpg', 'Image_8.jpg', 'Image_4.jpg', 'Image_9.jpg', 'Image_6.jpg', 'Image_10.jpg']\n",
            "----------------------------------------\n",
            "Directory: /root/.cache/kagglehub/datasets/kritikseth/fruit-and-vegetable-image-recognition/versions/8/validation/mango\n",
            "Subdirectories: []\n",
            "Files: ['Image_7.jpg', 'Image_1.jpg', 'Image_5.jpg', 'Image_3.jpg', 'Image_2.jpg', 'Image_8.jpg', 'Image_4.jpg', 'Image_9.jpg', 'Image_6.jpg', 'Image_10.jpg']\n",
            "----------------------------------------\n",
            "Directory: /root/.cache/kagglehub/datasets/kritikseth/fruit-and-vegetable-image-recognition/versions/8/validation/ginger\n",
            "Subdirectories: []\n",
            "Files: ['Image_7.jpg', 'Image_1.jpg', 'Image_5.jpg', 'Image_3.jpg', 'Image_2.jpg', 'Image_8.jpg', 'Image_4.jpg', 'Image_9.jpg', 'Image_6.jpg', 'Image_10.jpg']\n",
            "----------------------------------------\n",
            "Directory: /root/.cache/kagglehub/datasets/kritikseth/fruit-and-vegetable-image-recognition/versions/8/validation/cauliflower\n",
            "Subdirectories: []\n",
            "Files: ['Image_7.jpg', 'Image_1.jpg', 'Image_3.jpg', 'Image_2.jpg', 'Image_8.jpg', 'Image_4.jpg', 'Image_9.jpg', 'Image_5.JPG', 'Image_6.jpg', 'Image_10.jpg']\n",
            "----------------------------------------\n",
            "Directory: /root/.cache/kagglehub/datasets/kritikseth/fruit-and-vegetable-image-recognition/versions/8/validation/chilli pepper\n",
            "Subdirectories: []\n",
            "Files: ['Image_2.png', 'Image_7.jpg', 'Image_1.jpg', 'Image_3.jpg', 'Image_8.jpg', 'Image_4.jpg', 'Image_9.jpg', 'Image_5.png', 'Image_10.jpg']\n",
            "----------------------------------------\n",
            "Directory: /root/.cache/kagglehub/datasets/kritikseth/fruit-and-vegetable-image-recognition/versions/8/validation/capsicum\n",
            "Subdirectories: []\n",
            "Files: ['Image_7.jpg', 'Image_1.jpg', 'Image_5.jpg', 'Image_2.jpg', 'Image_8.jpg', 'Image_4.jpg', 'Image_9.jpg', 'Image_6.jpg', 'Image_10.jpg', 'Image_3.JPG']\n",
            "----------------------------------------\n",
            "Directory: /root/.cache/kagglehub/datasets/kritikseth/fruit-and-vegetable-image-recognition/versions/8/validation/tomato\n",
            "Subdirectories: []\n",
            "Files: ['Image_7.jpg', 'Image_1.jpg', 'Image_5.jpg', 'Image_3.jpg', 'Image_2.jpg', 'Image_8.jpg', 'Image_4.jpg', 'Image_9.jpg', 'Image_6.jpg', 'Image_10.jpg']\n",
            "----------------------------------------\n",
            "Directory: /root/.cache/kagglehub/datasets/kritikseth/fruit-and-vegetable-image-recognition/versions/8/validation/kiwi\n",
            "Subdirectories: []\n",
            "Files: ['Image_7.jpg', 'Image_1.jpg', 'Image_5.jpg', 'Image_3.jpg', 'Image_2.jpg', 'Image_8.jpg', 'Image_4.jpg', 'Image_9.jpg', 'Image_6.jpg', 'Image_10.jpg']\n",
            "----------------------------------------\n",
            "Directory: /root/.cache/kagglehub/datasets/kritikseth/fruit-and-vegetable-image-recognition/versions/8/validation/paprika\n",
            "Subdirectories: []\n",
            "Files: ['Image_7.jpg', 'Image_1.jpg', 'Image_5.jpg', 'Image_3.jpg', 'Image_2.jpg', 'Image_8.jpg', 'Image_4.jpg', 'Image_9.jpg', 'Image_6.jpg', 'Image_10.jpg']\n",
            "----------------------------------------\n",
            "Directory: /root/.cache/kagglehub/datasets/kritikseth/fruit-and-vegetable-image-recognition/versions/8/train\n",
            "Subdirectories: ['sweetpotato', 'cucumber', 'eggplant', 'onion', 'peas', 'garlic', 'sweetcorn', 'lemon', 'carrot', 'pomegranate', 'watermelon', 'corn', 'pear', 'beetroot', 'grapes', 'orange', 'apple', 'jalepeno', 'potato', 'cabbage', 'turnip', 'pineapple', 'lettuce', 'raddish', 'soy beans', 'spinach', 'bell pepper', 'banana', 'mango', 'ginger', 'cauliflower', 'chilli pepper', 'capsicum', 'tomato', 'kiwi', 'paprika']\n",
            "Files: []\n",
            "----------------------------------------\n",
            "Directory: /root/.cache/kagglehub/datasets/kritikseth/fruit-and-vegetable-image-recognition/versions/8/train/sweetpotato\n",
            "Subdirectories: []\n",
            "Files: ['Image_99.jpg', 'Image_18.jpg', 'Image_37.jpg', 'Image_16.jpg', 'Image_73.jpg', 'Image_54.jpg', 'Image_70.jpg', 'Image_53.jpg', 'Image_92.jpg', 'Image_36.jpg', 'Image_69.jpg', 'Image_66.jpg', 'Image_50.jpg', 'Image_57.jpg', 'Image_5.jpg', 'Image_93.jpg', 'Image_81.jpg', 'Image_98.jpg', 'Image_3.jpg', 'Image_34.jpg', 'Image_2.jpg', 'Image_60.jpg', 'Image_97.jpg', 'Image_43.jpg', 'Image_76.jpg', 'Image_58.jpg', 'Image_39.jpg', 'Image_63.jpg', 'Image_32.jpg', 'Image_11.jpg', 'Image_90.jpg', 'Image_94.jpg', 'Image_8.jpg', 'Image_68.jpg', 'Image_55.jpg', 'Image_42.jpg', 'Image_4.jpg', 'Image_67.jpg', 'Image_9.jpg', 'Image_14.jpg', 'Image_28.jpg', 'Image_23.jpg', 'Image_15.jpg', 'Image_80.jpg', 'Image_95.jpg', 'Image_22.jpg', 'Image_29.jpg', 'Image_25.jpg', 'Image_88.jpg', 'Image_21.jpg', 'Image_62.jpg', 'Image_12.jpg', 'Image_19.jpg', 'Image_100.jpg', 'Image_84.jpg', 'Image_71.jpg', 'Image_35.jpg', 'Image_77.jpg', 'Image_13.jpg', 'Image_87.jpg', 'Image_41.jpg', 'Image_64.jpg', 'Image_78.jpg', 'Image_38.jpg', 'Image_10.jpg', 'Image_30.jpg', 'Image_40.jpg', 'Image_86.jpg', 'Image_85.jpg']\n",
            "----------------------------------------\n",
            "Directory: /root/.cache/kagglehub/datasets/kritikseth/fruit-and-vegetable-image-recognition/versions/8/train/cucumber\n",
            "Subdirectories: []\n",
            "Files: ['Image_99.jpg', 'Image_18.jpg', 'Image_37.jpg', 'Image_16.jpg', 'Image_73.jpg', 'Image_59.png', 'Image_41.png', 'Image_24.jpg', 'Image_38.png', 'Image_70.jpg', 'Image_69.jpg', 'Image_48.jpg', 'Image_49.JPG', 'Image_66.jpg', 'Image_7.jpg', 'Image_1.jpg', 'Image_57.jpg', 'Image_36.jpeg', 'Image_5.jpg', 'Image_93.jpg', 'Image_81.jpg', 'Image_98.jpg', 'Image_3.jpg', 'Image_53.JPG', 'Image_34.jpg', 'Image_83.jpg', 'Image_33.jpg', 'Image_2.jpg', 'Image_89.jpg', 'Image_97.jpg', 'Image_43.jpg', 'Image_58.jpg', 'Image_39.jpg', 'Image_75.jpg', 'Image_17.jpg', 'Image_63.jpg', 'Image_32.jpg', 'Image_11.jpg', 'Image_90.jpg', 'Image_27.jpg', 'Image_94.jpg', 'Image_8.jpg', 'Image_68.jpg', 'Image_4.jpg', 'Image_80.jpeg', 'Image_76.JPG', 'Image_9.jpg', 'Image_14.jpg', 'Image_28.jpg', 'Image_91.jpeg', 'Image_23.jpg', 'Image_15.jpg', 'Image_47.jpg', 'Image_95.jpg', 'Image_22.jpg', 'Image_50.JPG', 'Image_29.jpg', 'Image_74.jpg', 'Image_44.jpg', 'Image_25.jpg', 'Image_88.jpg', 'Image_21.jpg', 'Image_12.jpg', 'Image_19.jpg', 'Image_46.jpg', 'Image_100.jpg', 'Image_84.jpg', 'Image_20.jpg', 'Image_71.jpg', 'Image_35.jpg', 'Image_77.jpg', 'Image_61.jpg', 'Image_45.jpg', 'Image_82.png', 'Image_87.jpg', 'Image_31.jpg', 'Image_6.jpg', 'Image_56.jpg', 'Image_26.jpg', 'Image_96.jpg', 'Image_79.jpg', 'Image_64.jpg', 'Image_92.JPG', 'Image_78.jpg', 'Image_54.png', 'Image_52.jpg', 'Image_10.jpg', 'Image_30.jpg', 'Image_42.png', 'Image_40.jpg', 'Image_86.jpg', 'Image_13.JPG', 'Image_55.png', 'Image_85.jpg']\n",
            "----------------------------------------\n",
            "Directory: /root/.cache/kagglehub/datasets/kritikseth/fruit-and-vegetable-image-recognition/versions/8/train/eggplant\n",
            "Subdirectories: []\n",
            "Files: ['Image_99.jpg', 'Image_18.jpg', 'Image_37.jpg', 'Image_16.jpg', 'Image_73.jpg', 'Image_24.jpg', 'Image_38.png', 'Image_92.jpg', 'Image_36.jpg', 'Image_82.jpg', 'Image_69.jpg', 'Image_48.jpg', 'Image_66.jpg', 'Image_7.jpg', 'Image_1.jpg', 'Image_5.jpg', 'Image_93.jpg', 'Image_81.jpg', 'Image_98.jpg', 'Image_3.jpg', 'Image_33.jpg', 'Image_2.jpg', 'Image_89.jpg', 'Image_97.jpg', 'Image_43.jpg', 'Image_58.jpg', 'Image_25.JPG', 'Image_39.jpg', 'Image_17.jpg', 'Image_63.jpg', 'Image_32.jpg', 'Image_11.jpg', 'Image_27.jpg', 'Image_94.jpg', 'Image_8.jpg', 'Image_68.jpg', 'Image_55.jpg', 'Image_42.jpg', 'Image_59.jpg', 'Image_4.jpg', 'Image_34.JPG', 'Image_67.jpg', 'Image_9.jpg', 'Image_14.jpg', 'Image_28.jpg', 'Image_40.png', 'Image_15.jpg', 'Image_26.png', 'Image_80.jpg', 'Image_47.jpg', 'Image_95.jpg', 'Image_22.jpg', 'Image_29.jpg', 'Image_23.JPG', 'Image_74.jpg', 'Image_44.jpg', 'Image_21.jpg', 'Image_62.jpg', 'Image_12.jpg', 'Image_19.jpg', 'Image_46.jpg', 'Image_100.jpg', 'Image_84.jpg', 'Image_20.jpg', 'Image_71.jpg', 'Image_35.jpg', 'Image_61.jpg', 'Image_13.jpg', 'Image_45.jpg', 'Image_87.jpg', 'Image_31.jpg', 'Image_6.jpg', 'Image_51.jpg', 'Image_56.jpg', 'Image_65.jpg', 'Image_41.jpg', 'Image_96.jpg', 'Image_79.jpg', 'Image_64.jpg', 'Image_78.jpg', 'Image_54.png', 'Image_10.jpg', 'Image_30.jpg', 'Image_72.jpg']\n",
            "----------------------------------------\n",
            "Directory: /root/.cache/kagglehub/datasets/kritikseth/fruit-and-vegetable-image-recognition/versions/8/train/onion\n",
            "Subdirectories: []\n",
            "Files: ['Image_99.jpg', 'Image_18.jpg', 'Image_16.jpg', 'Image_73.jpg', 'Image_24.jpg', 'Image_42.JPG', 'Image_54.jpg', 'Image_70.jpg', 'Image_53.jpg', 'Image_31.png', 'Image_68.png', 'Image_92.jpg', 'Image_36.jpg', 'Image_37.png', 'Image_82.jpg', 'Image_69.jpg', 'Image_48.jpg', 'Image_66.jpg', 'Image_50.jpg', 'Image_7.jpg', 'Image_1.jpg', 'Image_5.jpg', 'Image_93.jpg', 'Image_81.jpg', 'Image_71.png', 'Image_98.jpg', 'Image_3.jpg', 'Image_91.jpg', 'Image_83.jpg', 'Image_2.jpg', 'Image_89.jpg', 'Image_60.jpg', 'Image_97.jpg', 'Image_43.jpg', 'Image_49.png', 'Image_58.jpg', 'Image_39.jpg', 'Image_34.png', 'Image_75.jpg', 'Image_17.jpg', 'Image_33.png', 'Image_32.jpg', 'Image_11.jpg', 'Image_90.jpg', 'Image_27.jpg', 'Image_8.jpg', 'Image_55.jpg', 'Image_59.jpg', 'Image_4.jpg', 'Image_64.jpeg', 'Image_63.png', 'Image_14.jpg', 'Image_28.jpg', 'Image_23.jpg', 'Image_15.jpg', 'Image_80.jpg', 'Image_47.jpg', 'Image_95.jpg', 'Image_22.jpg', 'Image_29.jpg', 'Image_74.jpg', 'Image_25.jpg', 'Image_88.jpg', 'Image_78.png', 'Image_21.jpg', 'Image_62.jpg', 'Image_12.jpg', 'Image_19.jpg', 'Image_46.jpg', 'Image_100.jpg', 'Image_84.jpg', 'Image_20.jpg', 'Image_61.jpg', 'Image_13.jpg', 'Image_45.jpg', 'Image_94.png', 'Image_87.jpg', 'Image_6.jpg', 'Image_56.jpg', 'Image_26.jpg', 'Image_65.jpg', 'Image_41.jpg', 'Image_96.jpg', 'Image_79.jpg', 'Image_35.png', 'Image_52.jpg', 'Image_38.jpg', 'Image_10.jpg', 'Image_30.jpg', 'Image_9.png', 'Image_72.jpg', 'Image_40.jpg', 'Image_86.jpg', 'Image_85.jpg']\n",
            "----------------------------------------\n",
            "Directory: /root/.cache/kagglehub/datasets/kritikseth/fruit-and-vegetable-image-recognition/versions/8/train/peas\n",
            "Subdirectories: []\n",
            "Files: ['Image_99.jpg', 'Image_18.jpg', 'Image_16.jpg', 'Image_73.jpg', 'Image_24.jpg', 'Image_54.jpg', 'Image_70.jpg', 'Image_53.jpg', 'Image_92.jpg', 'Image_36.jpg', 'Image_37.png', 'Image_82.jpg', 'Image_69.jpg', 'Image_48.jpg', 'Image_50.jpg', 'Image_7.jpg', 'Image_1.jpg', 'Image_57.jpg', 'Image_93.jpg', 'Image_81.jpg', 'Image_98.jpg', 'Image_3.jpg', 'Image_91.jpg', 'Image_34.jpg', 'Image_83.jpg', 'Image_2.jpg', 'Image_89.jpg', 'Image_60.jpg', 'Image_43.jpg', 'Image_58.jpg', 'Image_49.jpg', 'Image_75.jpg', 'Image_17.jpg', 'Image_33.png', 'Image_32.jpg', 'Image_11.jpg', 'Image_90.jpg', 'Image_27.jpg', 'Image_94.jpg', 'Image_8.jpg', 'Image_68.jpg', 'Image_55.jpg', 'Image_42.jpg', 'Image_59.jpg', 'Image_4.jpg', 'Image_76.JPG', 'Image_67.jpg', 'Image_9.jpg', 'Image_14.jpg', 'Image_28.jpg', 'Image_30.png', 'Image_23.jpg', 'Image_15.jpg', 'Image_97.png', 'Image_26.png', 'Image_80.jpg', 'Image_47.jpg', 'Image_95.jpg', 'Image_22.jpg', 'Image_29.jpg', 'Image_74.jpg', 'Image_39.JPG', 'Image_44.jpg', 'Image_25.jpg', 'Image_88.jpg', 'Image_21.jpg', 'Image_5.png', 'Image_62.jpg', 'Image_12.jpg', 'Image_19.jpg', 'Image_46.jpg', 'Image_100.jpg', 'Image_84.jpg', 'Image_20.jpg', 'Image_71.jpg', 'Image_35.jpg', 'Image_77.jpg', 'Image_61.jpg', 'Image_13.jpg', 'Image_45.jpg', 'Image_87.jpg', 'Image_31.jpg', 'Image_6.jpg', 'Image_51.jpg', 'Image_56.jpg', 'Image_63.JPG', 'Image_65.jpg', 'Image_41.jpg', 'Image_96.jpg', 'Image_79.jpg', 'Image_64.jpg', 'Image_78.jpg', 'Image_66.JPG', 'Image_52.jpg', 'Image_38.jpg', 'Image_10.jpg', 'Image_72.jpg', 'Image_40.jpg', 'Image_86.jpg', 'Image_85.jpg']\n",
            "----------------------------------------\n",
            "Directory: /root/.cache/kagglehub/datasets/kritikseth/fruit-and-vegetable-image-recognition/versions/8/train/garlic\n",
            "Subdirectories: []\n",
            "Files: ['Image_99.jpg', 'Image_18.jpg', 'Image_37.jpg', 'Image_16.jpg', 'Image_59.png', 'Image_45.png', 'Image_54.jpg', 'Image_53.jpg', 'Image_82.jpg', 'Image_69.jpg', 'Image_48.jpg', 'Image_66.jpg', 'Image_50.jpg', 'Image_7.jpg', 'Image_1.jpg', 'Image_57.jpg', 'Image_5.jpg', 'Image_93.jpg', 'Image_81.jpg', 'Image_98.jpg', 'Image_3.jpg', 'Image_91.jpg', 'Image_34.jpg', 'Image_83.jpg', 'Image_33.jpg', 'Image_2.jpg', 'Image_25.jpeg', 'Image_36.png', 'Image_60.jpg', 'Image_97.jpg', 'Image_43.jpg', 'Image_76.jpg', 'Image_58.jpg', 'Image_49.jpg', 'Image_47.JPG', 'Image_39.jpg', 'Image_75.jpg', 'Image_17.jpg', 'Image_63.jpg', 'Image_32.jpg', 'Image_11.jpg', 'Image_90.jpg', 'Image_27.jpg', 'Image_94.jpg', 'Image_8.jpg', 'Image_68.jpg', 'Image_55.jpg', 'Image_4.jpg', 'Image_67.jpg', 'Image_9.jpg', 'Image_14.jpg', 'Image_28.jpg', 'Image_23.jpg', 'Image_15.jpg', 'Image_24.png', 'Image_56.jpeg', 'Image_95.jpg', 'Image_22.jpg', 'Image_29.jpg', 'Image_74.jpg', 'Image_44.jpg', 'Image_88.jpg', 'Image_21.jpg', 'Image_62.jpg', 'Image_12.jpg', 'Image_19.jpg', 'Image_46.jpg', 'Image_100.jpg', 'Image_84.jpg', 'Image_20.jpg', 'Image_71.jpg', 'Image_77.jpg', 'Image_61.jpg', 'Image_13.jpg', 'Image_31.jpg', 'Image_6.jpg', 'Image_51.jpg', 'Image_26.jpg', 'Image_65.jpg', 'Image_41.jpg', 'Image_96.jpg', 'Image_64.jpg', 'Image_78.jpg', 'Image_35.png', 'Image_52.jpg', 'Image_38.jpg', 'Image_10.jpg', 'Image_30.jpg', 'Image_42.png', 'Image_40.jpg', 'Image_86.jpg', 'Image_85.jpg']\n",
            "----------------------------------------\n",
            "Directory: /root/.cache/kagglehub/datasets/kritikseth/fruit-and-vegetable-image-recognition/versions/8/train/sweetcorn\n",
            "Subdirectories: []\n",
            "Files: ['Image_99.jpg', 'Image_15.JPG', 'Image_37.jpg', 'Image_24.jpg', 'Image_54.jpg', 'Image_70.jpg', 'Image_75.png', 'Image_53.jpg', 'Image_36.jpg', 'Image_69.jpg', 'Image_48.jpg', 'Image_66.jpg', 'Image_50.jpg', 'Image_7.jpg', 'Image_1.jpg', 'Image_57.jpg', 'Image_5.jpg', 'Image_93.jpg', 'Image_98.jpg', 'Image_3.jpg', 'Image_34.jpg', 'Image_83.jpg', 'Image_56.png', 'Image_33.jpg', 'Image_2.jpg', 'Image_89.jpg', 'Image_60.jpg', 'Image_97.jpg', 'Image_43.jpg', 'Image_76.jpg', 'Image_58.jpg', 'Image_39.jpg', 'Image_17.jpg', 'Image_63.jpg', 'Image_32.jpg', 'Image_11.jpg', 'Image_90.jpg', 'Image_27.jpg', 'Image_94.jpg', 'Image_8.jpg', 'Image_42.jpg', 'Image_59.jpg', 'Image_4.jpg', 'Image_67.jpg', 'Image_9.jpg', 'Image_14.jpg', 'Image_30.png', 'Image_23.jpg', 'Image_80.jpg', 'Image_47.jpg', 'Image_95.jpg', 'Image_22.jpg', 'Image_29.jpg', 'Image_74.jpg', 'Image_16.JPG', 'Image_44.jpg', 'Image_25.jpg', 'Image_88.jpg', 'Image_21.jpg', 'Image_64.png', 'Image_62.jpg', 'Image_12.jpg', 'Image_19.jpg', 'Image_46.jpg', 'Image_100.jpg', 'Image_84.jpg', 'Image_20.jpg', 'Image_71.jpg', 'Image_35.jpg', 'Image_77.jpg', 'Image_61.jpg', 'Image_13.jpg', 'Image_45.jpg', 'Image_87.jpg', 'Image_31.jpg', 'Image_6.jpg', 'Image_51.jpg', 'Image_26.jpg', 'Image_65.jpg', 'Image_41.jpg', 'Image_96.jpg', 'Image_79.jpg', 'Image_78.jpg', 'Image_28.JPG', 'Image_52.jpg', 'Image_38.jpg', 'Image_10.jpg', 'Image_72.jpg', 'Image_40.jpg', 'Image_55.png', 'Image_85.jpg']\n",
            "----------------------------------------\n",
            "Directory: /root/.cache/kagglehub/datasets/kritikseth/fruit-and-vegetable-image-recognition/versions/8/train/lemon\n",
            "Subdirectories: []\n",
            "Files: ['Image_99.jpg', 'Image_18.jpg', 'Image_15.JPG', 'Image_16.jpg', 'Image_24.jpg', 'Image_45.png', 'Image_54.jpg', 'Image_70.jpg', 'Image_53.jpg', 'Image_8.png', 'Image_92.jpg', 'Image_37.png', 'Image_69.jpg', 'Image_48.jpg', 'Image_100.png', 'Image_50.jpg', 'Image_7.jpg', 'Image_57.jpg', 'Image_5.jpg', 'Image_93.jpg', 'Image_98.jpg', 'Image_3.jpg', 'Image_34.jpg', 'Image_2.jpg', 'Image_1.png', 'Image_36.png', 'Image_60.jpg', 'Image_97.jpg', 'Image_76.jpeg', 'Image_87.png', 'Image_58.jpg', 'Image_49.jpg', 'Image_75.jpg', 'Image_17.jpg', 'Image_63.jpg', 'Image_32.jpg', 'Image_11.jpg', 'Image_90.jpg', 'Image_33.jpeg', 'Image_27.jpg', 'Image_94.jpg', 'Image_39.png', 'Image_55.jpg', 'Image_43.jpeg', 'Image_42.jpg', 'Image_4.jpg', 'Image_9.jpg', 'Image_14.jpg', 'Image_28.jpg', 'Image_23.jpg', 'Image_6.png', 'Image_80.jpg', 'Image_47.jpg', 'Image_22.jpg', 'Image_95.png', 'Image_74.jpg', 'Image_44.jpg', 'Image_25.jpg', 'Image_88.jpg', 'Image_21.jpg', 'Image_52.png', 'Image_64.png', 'Image_29.jpeg', 'Image_12.jpg', 'Image_19.jpg', 'Image_84.jpg', 'Image_71.jpg', 'Image_35.jpg', 'Image_77.jpg', 'Image_13.jpg', 'Image_31.jpg', 'Image_51.jpg', 'Image_56.jpg', 'Image_65.jpg', 'Image_41.jpg', 'Image_96.jpg', 'Image_78.jpg', 'Image_61.png', 'Image_38.jpg', 'Image_10.jpg', 'Image_30.jpg', 'Image_85.jpg']\n",
            "----------------------------------------\n",
            "Directory: /root/.cache/kagglehub/datasets/kritikseth/fruit-and-vegetable-image-recognition/versions/8/train/carrot\n",
            "Subdirectories: []\n",
            "Files: ['Image_99.jpg', 'Image_37.jpg', 'Image_24.jpg', 'Image_54.jpg', 'Image_70.jpg', 'Image_53.jpg', 'Image_68.png', 'Image_36.jpg', 'Image_82.jpg', 'Image_69.jpg', 'Image_66.jpg', 'Image_50.jpg', 'Image_7.jpg', 'Image_1.jpg', 'Image_57.jpg', 'Image_5.jpg', 'Image_93.jpg', 'Image_10.jpeg', 'Image_81.jpg', 'Image_80.png', 'Image_14.jpeg', 'Image_98.jpg', 'Image_73.jpeg', 'Image_3.jpg', 'Image_91.jpg', 'Image_17.jpeg', 'Image_34.jpg', 'Image_83.jpg', 'Image_2.jpg', 'Image_89.jpg', 'Image_60.jpg', 'Image_44.png', 'Image_76.jpg', 'Image_58.jpg', 'Image_62.png', 'Image_49.jpg', 'Image_75.jpg', 'Image_63.jpg', 'Image_8.JPG', 'Image_32.jpg', 'Image_11.jpg', 'Image_90.jpg', 'Image_27.jpg', 'Image_94.jpg', 'Image_55.jpg', 'Image_42.jpg', 'Image_59.jpg', 'Image_67.jpg', 'Image_9.jpg', 'Image_28.jpg', 'Image_23.jpg', 'Image_15.jpg', 'Image_47.jpg', 'Image_29.jpg', 'Image_25.jpg', 'Image_88.jpg', 'Image_12.jpg', 'Image_46.jpg', 'Image_100.jpg', 'Image_84.jpg', 'Image_20.jpg', 'Image_71.jpg', 'Image_35.jpg', 'Image_77.jpg', 'Image_61.jpg', 'Image_13.jpg', 'Image_31.jpg', 'Image_6.jpg', 'Image_51.jpg', 'Image_56.jpg', 'Image_26.jpg', 'Image_65.jpg', 'Image_41.jpg', 'Image_96.jpg', 'Image_79.jpg', 'Image_64.jpg', 'Image_78.jpg', 'Image_52.jpg', 'Image_72.jpg', 'Image_40.jpg', 'Image_86.jpg', 'Image_85.jpg']\n",
            "----------------------------------------\n",
            "Directory: /root/.cache/kagglehub/datasets/kritikseth/fruit-and-vegetable-image-recognition/versions/8/train/pomegranate\n",
            "Subdirectories: []\n",
            "Files: ['Image_99.jpg', 'Image_18.jpg', 'Image_37.jpg', 'Image_73.JPG', 'Image_16.jpg', 'Image_24.jpg', 'Image_54.jpg', 'Image_70.jpg', 'Image_36.jpg', 'Image_69.jpg', 'Image_66.jpg', 'Image_50.jpg', 'Image_7.jpg', 'Image_1.jpg', 'Image_57.jpg', 'Image_5.jpg', 'Image_80.png', 'Image_3.jpg', 'Image_91.jpg', 'Image_83.jpg', 'Image_33.jpg', 'Image_2.jpg', 'Image_60.jpg', 'Image_97.jpg', 'Image_43.jpg', 'Image_58.jpg', 'Image_39.jpg', 'Image_75.jpg', 'Image_17.jpg', 'Image_63.jpg', 'Image_32.jpg', 'Image_11.jpg', 'Image_27.jpg', 'Image_8.jpg', 'Image_68.jpg', 'Image_59.jpg', 'Image_4.jpg', 'Image_9.jpg', 'Image_14.jpg', 'Image_67.png', 'Image_23.jpg', 'Image_15.jpg', 'Image_22.jpg', 'Image_29.jpg', 'Image_74.jpg', 'Image_44.jpg', 'Image_25.jpg', 'Image_88.jpg', 'Image_21.jpg', 'Image_12.jpg', 'Image_19.jpg', 'Image_46.jpg', 'Image_100.jpg', 'Image_20.jpg', 'Image_71.jpg', 'Image_35.jpg', 'Image_77.jpg', 'Image_61.jpg', 'Image_13.jpg', 'Image_45.jpg', 'Image_87.jpg', 'Image_31.jpg', 'Image_6.jpg', 'Image_51.jpg', 'Image_56.jpg', 'Image_89.png', 'Image_26.jpg', 'Image_65.jpg', 'Image_41.jpg', 'Image_96.jpg', 'Image_79.jpg', 'Image_64.jpg', 'Image_28.jpeg', 'Image_52.jpg', 'Image_38.jpg', 'Image_10.jpg', 'Image_30.jpg', 'Image_72.jpg', 'Image_40.jpg']\n",
            "----------------------------------------\n",
            "Directory: /root/.cache/kagglehub/datasets/kritikseth/fruit-and-vegetable-image-recognition/versions/8/train/watermelon\n",
            "Subdirectories: []\n",
            "Files: ['Image_99.jpg', 'Image_18.jpg', 'Image_37.jpg', 'Image_16.jpg', 'Image_73.jpg', 'Image_24.jpg', 'Image_70.jpg', 'Image_53.jpg', 'Image_92.jpg', 'Image_36.jpg', 'Image_69.jpg', 'Image_66.jpg', 'Image_50.jpg', 'Image_7.jpg', 'Image_1.jpg', 'Image_57.jpg', 'Image_5.jpg', 'Image_81.jpg', 'Image_14.jpeg', 'Image_98.jpg', 'Image_3.jpg', 'Image_91.jpg', 'Image_34.jpg', 'Image_83.jpg', 'Image_2.jpg', 'Image_97.jpg', 'Image_43.jpg', 'Image_58.jpg', 'Image_49.jpg', 'Image_39.jpg', 'Image_31.JPG', 'Image_17.jpg', 'Image_63.jpg', 'Image_33.png', 'Image_32.jpg', 'Image_90.jpg', 'Image_27.jpg', 'Image_94.jpg', 'Image_8.jpg', 'Image_68.jpg', 'Image_55.jpg', 'Image_42.jpg', 'Image_59.jpg', 'Image_4.jpg', 'Image_67.jpg', 'Image_9.jpg', 'Image_28.jpg', 'Image_23.jpg', 'Image_15.jpg', 'Image_47.jpg', 'Image_95.jpg', 'Image_22.jpg', 'Image_29.jpg', 'Image_44.jpg', 'Image_25.jpg', 'Image_88.jpg', 'Image_21.jpg', 'Image_62.jpg', 'Image_46.jpg', 'Image_100.jpg', 'Image_84.jpg', 'Image_19.png', 'Image_20.jpg', 'Image_35.jpg', 'Image_61.jpg', 'Image_13.jpg', 'Image_45.jpg', 'Image_6.jpg', 'Image_51.jpg', 'Image_56.jpg', 'Image_89.png', 'Image_26.jpg', 'Image_65.jpg', 'Image_41.jpg', 'Image_96.jpg', 'Image_79.jpg', 'Image_78.jpg', 'Image_52.jpg', 'Image_38.jpg', 'Image_10.jpg', 'Image_30.jpg', 'Image_40.jpg', 'Image_86.jpg', 'Image_85.jpg']\n",
            "----------------------------------------\n",
            "Directory: /root/.cache/kagglehub/datasets/kritikseth/fruit-and-vegetable-image-recognition/versions/8/train/corn\n",
            "Subdirectories: []\n",
            "Files: ['Image_99.jpg', 'Image_18.jpg', 'Image_37.jpg', 'Image_16.jpg', 'Image_73.jpg', 'Image_24.jpg', 'Image_54.jpg', 'Image_53.jpg', 'Image_92.jpg', 'Image_82.jpg', 'Image_48.jpg', 'Image_66.jpg', 'Image_50.jpg', 'Image_7.jpg', 'Image_1.jpg', 'Image_57.jpg', 'Image_5.jpg', 'Image_93.jpg', 'Image_81.jpg', 'Image_98.jpg', 'Image_3.jpg', 'Image_91.jpg', 'Image_83.jpg', 'Image_33.jpg', 'Image_2.jpg', 'Image_89.jpg', 'Image_60.jpg', 'Image_97.jpg', 'Image_58.jpg', 'Image_49.jpg', 'Image_39.jpg', 'Image_75.jpg', 'Image_17.jpg', 'Image_63.jpg', 'Image_11.jpg', 'Image_90.jpg', 'Image_27.jpg', 'Image_94.jpg', 'Image_8.jpg', 'Image_68.jpg', 'Image_55.jpg', 'Image_42.jpg', 'Image_59.jpg', 'Image_4.jpg', 'Image_34.JPG', 'Image_67.jpg', 'Image_9.jpg', 'Image_14.jpg', 'Image_28.jpg', 'Image_23.jpg', 'Image_15.jpg', 'Image_47.jpg', 'Image_95.jpg', 'Image_22.jpg', 'Image_29.jpg', 'Image_74.jpg', 'Image_25.jpg', 'Image_21.jpg', 'Image_62.jpg', 'Image_12.jpg', 'Image_100.jpg', 'Image_32.png', 'Image_84.jpg', 'Image_71.jpg', 'Image_35.jpg', 'Image_61.jpg', 'Image_20.png', 'Image_13.jpg', 'Image_45.jpg', 'Image_31.jpg', 'Image_6.jpg', 'Image_51.jpg', 'Image_56.jpg', 'Image_26.jpg', 'Image_65.jpg', 'Image_41.jpg', 'Image_96.jpg', 'Image_79.jpg', 'Image_78.jpg', 'Image_52.jpg', 'Image_38.jpg', 'Image_10.jpg', 'Image_30.jpg', 'Image_72.jpg', 'Image_40.jpg', 'Image_86.jpg', 'Image_85.jpg']\n",
            "----------------------------------------\n",
            "Directory: /root/.cache/kagglehub/datasets/kritikseth/fruit-and-vegetable-image-recognition/versions/8/train/pear\n",
            "Subdirectories: []\n",
            "Files: ['Image_99.jpg', 'Image_18.jpg', 'Image_37.jpg', 'Image_16.jpg', 'Image_73.jpg', 'Image_24.jpg', 'Image_38.png', 'Image_54.jpg', 'Image_70.jpg', 'Image_53.jpg', 'Image_36.jpg', 'Image_69.jpg', 'Image_66.jpg', 'Image_50.jpg', 'Image_7.jpg', 'Image_1.jpg', 'Image_86.png', 'Image_5.jpg', 'Image_93.jpg', 'Image_81.jpg', 'Image_98.jpg', 'Image_3.jpg', 'Image_20.JPG', 'Image_58.png', 'Image_34.jpg', 'Image_56.png', 'Image_2.jpg', 'Image_89.jpg', 'Image_60.jpg', 'Image_97.jpg', 'Image_43.jpg', 'Image_49.png', 'Image_76.jpg', 'Image_39.jpg', 'Image_17.jpg', 'Image_63.jpg', 'Image_33.png', 'Image_32.jpg', 'Image_11.jpg', 'Image_27.jpg', 'Image_94.jpg', 'Image_8.jpg', 'Image_68.jpg', 'Image_55.jpg', 'Image_42.jpg', 'Image_59.jpg', 'Image_4.jpg', 'Image_67.jpg', 'Image_9.jpg', 'Image_14.jpg', 'Image_28.jpg', 'Image_23.jpg', 'Image_15.jpg', 'Image_80.jpg', 'Image_95.jpg', 'Image_22.jpg', 'Image_29.jpg', 'Image_10.png', 'Image_25.jpg', 'Image_88.jpg', 'Image_21.jpg', 'Image_62.jpg', 'Image_12.jpg', 'Image_19.jpg', 'Image_48.png', 'Image_46.jpg', 'Image_100.jpg', 'Image_35.jpg', 'Image_13.jpg', 'Image_45.jpg', 'Image_47.jpeg', 'Image_82.png', 'Image_87.jpg', 'Image_31.jpg', 'Image_6.jpg', 'Image_51.jpg', 'Image_26.jpg', 'Image_65.jpg', 'Image_57.png', 'Image_96.jpg', 'Image_79.jpg', 'Image_64.jpg', 'Image_78.jpg', 'Image_52.jpg', 'Image_61.png', 'Image_30.jpg', 'Image_72.jpg', 'Image_40.jpg', 'Image_85.jpg']\n",
            "----------------------------------------\n",
            "Directory: /root/.cache/kagglehub/datasets/kritikseth/fruit-and-vegetable-image-recognition/versions/8/train/beetroot\n",
            "Subdirectories: []\n",
            "Files: ['Image_99.jpg', 'Image_18.jpg', 'Image_37.jpg', 'Image_16.jpg', 'Image_24.jpg', 'Image_53.jpg', 'Image_92.jpg', 'Image_36.jpg', 'Image_69.jpg', 'Image_48.jpg', 'Image_66.jpg', 'Image_50.jpg', 'Image_7.jpg', 'Image_1.jpg', 'Image_86.png', 'Image_5.jpg', 'Image_93.jpg', 'Image_81.jpg', 'Image_98.jpg', 'Image_3.jpg', 'Image_91.jpg', 'Image_34.jpg', 'Image_83.jpg', 'Image_33.jpg', 'Image_2.jpg', 'Image_89.jpg', 'Image_97.jpg', 'Image_84.png', 'Image_43.jpg', 'Image_76.jpg', 'Image_58.jpg', 'Image_49.jpg', 'Image_39.jpg', 'Image_75.jpg', 'Image_17.jpg', 'Image_63.jpg', 'Image_32.jpg', 'Image_11.jpg', 'Image_90.jpg', 'Image_27.jpg', 'Image_94.jpg', 'Image_8.jpg', 'Image_68.jpg', 'Image_55.jpg', 'Image_42.jpg', 'Image_4.jpg', 'Image_9.jpg', 'Image_14.jpg', 'Image_28.jpg', 'Image_23.jpg', 'Image_15.jpg', 'Image_47.jpg', 'Image_95.jpg', 'Image_22.jpg', 'Image_29.jpg', 'Image_44.jpg', 'Image_25.jpg', 'Image_62.jpg', 'Image_12.jpg', 'Image_19.jpg', 'Image_46.jpg', 'Image_100.jpg', 'Image_20.jpg', 'Image_35.jpg', 'Image_77.jpg', 'Image_61.jpg', 'Image_13.jpg', 'Image_45.jpg', 'Image_87.jpg', 'Image_31.jpg', 'Image_6.jpg', 'Image_51.jpg', 'Image_56.jpg', 'Image_26.jpg', 'Image_65.jpg', 'Image_41.jpg', 'Image_96.jpg', 'Image_79.jpg', 'Image_64.jpg', 'Image_78.jpg', 'Image_54.png', 'Image_52.jpg', 'Image_38.jpg', 'Image_10.jpg', 'Image_30.jpg', 'Image_72.jpg', 'Image_40.jpg', 'Image_21.JPG']\n",
            "----------------------------------------\n",
            "Directory: /root/.cache/kagglehub/datasets/kritikseth/fruit-and-vegetable-image-recognition/versions/8/train/grapes\n",
            "Subdirectories: []\n",
            "Files: ['Image_99.jpg', 'Image_18.jpg', 'Image_37.jpg', 'Image_16.jpg', 'Image_73.jpg', 'Image_24.jpg', 'Image_45.png', 'Image_54.jpg', 'Image_70.jpg', 'Image_53.jpg', 'Image_92.jpg', 'Image_69.jpg', 'Image_48.jpg', 'Image_49.JPG', 'Image_66.jpg', 'Image_50.jpg', 'Image_1.jpg', 'Image_57.jpg', 'Image_82.JPG', 'Image_93.jpg', 'Image_81.jpg', 'Image_98.jpg', 'Image_3.jpg', 'Image_91.jpg', 'Image_34.jpg', 'Image_33.jpg', 'Image_2.jpg', 'Image_6.JPG', 'Image_25.jpeg', 'Image_89.jpg', 'Image_7.png', 'Image_60.jpg', 'Image_97.jpg', 'Image_43.jpg', 'Image_5.jpeg', 'Image_87.png', 'Image_76.jpg', 'Image_58.jpg', 'Image_75.jpg', 'Image_17.jpg', 'Image_63.jpg', 'Image_32.jpg', 'Image_11.jpg', 'Image_90.jpg', 'Image_27.jpg', 'Image_94.jpg', 'Image_8.jpg', 'Image_68.jpg', 'Image_39.png', 'Image_55.jpg', 'Image_42.jpg', 'Image_59.jpg', 'Image_4.jpg', 'Image_67.jpg', 'Image_9.jpg', 'Image_14.jpg', 'Image_23.jpg', 'Image_15.jpg', 'Image_80.jpg', 'Image_47.jpg', 'Image_95.jpg', 'Image_22.jpg', 'Image_29.jpg', 'Image_74.jpg', 'Image_44.jpg', 'Image_88.jpg', 'Image_21.jpg', 'Image_83.JPG', 'Image_62.jpg', 'Image_36.JPG', 'Image_12.jpg', 'Image_19.jpg', 'Image_46.jpg', 'Image_84.jpg', 'Image_20.jpg', 'Image_100.jpeg', 'Image_71.jpg', 'Image_35.jpg', 'Image_77.jpg', 'Image_61.jpg', 'Image_13.jpg', 'Image_31.jpg', 'Image_51.jpg', 'Image_56.jpg', 'Image_26.jpg', 'Image_65.jpg', 'Image_41.jpg', 'Image_96.jpg', 'Image_79.jpg', 'Image_64.jpg', 'Image_28.jpeg', 'Image_78.jpg', 'Image_52.jpg', 'Image_40.jpeg', 'Image_72.JPG', 'Image_38.jpg', 'Image_10.jpg', 'Image_30.jpg', 'Image_86.jpg', 'Image_85.jpg']\n",
            "----------------------------------------\n",
            "Directory: /root/.cache/kagglehub/datasets/kritikseth/fruit-and-vegetable-image-recognition/versions/8/train/orange\n",
            "Subdirectories: []\n",
            "Files: ['Image_99.jpg', 'Image_18.jpg', 'Image_37.jpg', 'Image_16.jpg', 'Image_73.jpg', 'Image_24.jpg', 'Image_70.jpg', 'Image_36.jpg', 'Image_7.jpg', 'Image_5.jpg', 'Image_98.jpg', 'Image_3.jpg', 'Image_34.jpg', 'Image_33.jpg', 'Image_2.jpg', 'Image_1.png', 'Image_39.jpeg', 'Image_84.png', 'Image_43.jpg', 'Image_76.jpg', 'Image_63.jpg', 'Image_32.jpg', 'Image_11.jpg', 'Image_90.jpg', 'Image_27.jpg', 'Image_68.jpg', 'Image_55.jpg', 'Image_4.jpg', 'Image_67.jpg', 'Image_9.jpg', 'Image_14.jpg', 'Image_28.jpg', 'Image_23.jpg', 'Image_15.jpg', 'Image_97.png', 'Image_95.jpg', 'Image_17.JPG', 'Image_22.jpg', 'Image_29.jpg', 'Image_74.jpg', 'Image_44.jpg', 'Image_25.jpg', 'Image_88.jpg', 'Image_21.jpg', 'Image_12.jpg', 'Image_19.jpg', 'Image_46.jpg', 'Image_100.jpg', 'Image_20.jpg', 'Image_8.jpeg', 'Image_77.jpg', 'Image_13.jpg', 'Image_45.jpg', 'Image_87.jpg', 'Image_6.jpg', 'Image_51.jpg', 'Image_60.png', 'Image_56.jpg', 'Image_26.jpg', 'Image_65.jpg', 'Image_79.jpg', 'Image_52.jpg', 'Image_38.jpg', 'Image_10.jpg', 'Image_30.jpg', 'Image_72.jpg', 'Image_42.png', 'Image_40.jpg', 'Image_85.jpg']\n",
            "----------------------------------------\n",
            "Directory: /root/.cache/kagglehub/datasets/kritikseth/fruit-and-vegetable-image-recognition/versions/8/train/apple\n",
            "Subdirectories: []\n",
            "Files: ['Image_18.jpg', 'Image_37.jpg', 'Image_16.jpg', 'Image_59.png', 'Image_24.jpg', 'Image_54.jpg', 'Image_36.jpg', 'Image_82.jpg', 'Image_69.jpg', 'Image_48.jpg', 'Image_50.jpg', 'Image_7.jpg', 'Image_1.jpg', 'Image_57.jpg', 'Image_92.png', 'Image_71.png', 'Image_3.jpg', 'Image_34.jpg', 'Image_33.jpg', 'Image_2.jpg', 'Image_60.jpg', 'Image_43.jpg', 'Image_53.png', 'Image_83.png', 'Image_58.jpg', 'Image_49.jpg', 'Image_39.jpg', 'Image_17.jpg', 'Image_63.jpg', 'Image_32.jpg', 'Image_90.jpg', 'Image_27.jpg', 'Image_68.jpg', 'Image_55.jpg', 'Image_42.jpg', 'Image_81.png', 'Image_67.jpg', 'Image_9.jpg', 'Image_28.jpg', 'Image_23.jpg', 'Image_5.JPG', 'Image_80.jpg', 'Image_47.jpg', 'Image_44.jpg', 'Image_25.jpg', 'Image_21.jpg', 'Image_62.jpg', 'Image_19.jpg', 'Image_20.jpg', 'Image_65.png', 'Image_61.jpg', 'Image_45.jpg', 'Image_87.jpg', 'Image_31.jpg', 'Image_6.jpg', 'Image_51.jpg', 'Image_56.jpg', 'Image_26.jpg', 'Image_41.jpg', 'Image_64.jpg', 'Image_78.jpg', 'Image_35.png', 'Image_52.jpg', 'Image_76.png', 'Image_38.jpg', 'Image_10.jpg', 'Image_40.jpg', 'Image_86.jpg']\n",
            "----------------------------------------\n",
            "Directory: /root/.cache/kagglehub/datasets/kritikseth/fruit-and-vegetable-image-recognition/versions/8/train/jalepeno\n",
            "Subdirectories: []\n",
            "Files: ['Image_99.jpg', 'Image_18.jpg', 'Image_37.jpg', 'Image_16.jpg', 'Image_24.jpg', 'Image_54.jpg', 'Image_53.jpg', 'Image_36.jpg', 'Image_82.jpg', 'Image_69.jpg', 'Image_66.jpg', 'Image_50.jpg', 'Image_7.jpg', 'Image_70.png', 'Image_57.jpg', 'Image_5.jpg', 'Image_81.jpg', 'Image_3.jpg', 'Image_34.jpg', 'Image_83.jpg', 'Image_33.jpg', 'Image_2.jpg', 'Image_32.JPG', 'Image_89.jpg', 'Image_60.jpg', 'Image_1.jpeg', 'Image_58.jpg', 'Image_39.jpg', 'Image_55.jpeg', 'Image_75.jpg', 'Image_17.jpg', 'Image_63.jpg', 'Image_90.jpg', 'Image_27.jpg', 'Image_98.jpeg', 'Image_8.jpg', 'Image_68.jpg', 'Image_42.jpg', 'Image_59.jpg', 'Image_4.jpg', 'Image_67.jpg', 'Image_9.jpg', 'Image_14.jpg', 'Image_28.jpg', 'Image_23.jpg', 'Image_80.jpg', 'Image_47.jpg', 'Image_15.png', 'Image_22.jpg', 'Image_29.jpg', 'Image_74.jpg', 'Image_44.jpg', 'Image_25.jpg', 'Image_88.jpg', 'Image_21.jpg', 'Image_62.jpg', 'Image_12.jpg', 'Image_46.jpg', 'Image_100.jpg', 'Image_84.jpg', 'Image_19.png', 'Image_20.jpg', 'Image_71.jpg', 'Image_35.jpg', 'Image_77.jpg', 'Image_61.jpg', 'Image_13.jpg', 'Image_45.jpg', 'Image_87.jpg', 'Image_31.jpg', 'Image_6.jpg', 'Image_51.jpg', 'Image_56.jpg', 'Image_26.jpg', 'Image_65.jpg', 'Image_41.jpg', 'Image_11.jpeg', 'Image_79.jpg', 'Image_64.jpg', 'Image_78.jpg', 'Image_52.jpg', 'Image_76.png', 'Image_38.jpg', 'Image_10.jpg', 'Image_30.jpg', 'Image_72.jpg', 'Image_40.jpg', 'Image_85.jpg']\n",
            "----------------------------------------\n",
            "Directory: /root/.cache/kagglehub/datasets/kritikseth/fruit-and-vegetable-image-recognition/versions/8/train/potato\n",
            "Subdirectories: []\n",
            "Files: ['Image_16.jpg', 'Image_73.jpg', 'Image_54.jpg', 'Image_53.jpg', 'Image_92.jpg', 'Image_82.jpg', 'Image_48.jpg', 'Image_66.jpg', 'Image_50.jpg', 'Image_7.jpg', 'Image_1.jpg', 'Image_57.jpg', 'Image_81.jpg', 'Image_88.jpeg', 'Image_80.png', 'Image_98.jpg', 'Image_3.jpg', 'Image_91.jpg', 'Image_34.jpg', 'Image_83.jpg', 'Image_33.jpg', 'Image_89.jpg', 'Image_60.jpg', 'Image_97.jpg', 'Image_84.png', 'Image_43.jpg', 'Image_76.jpg', 'Image_58.jpg', 'Image_49.jpg', 'Image_63.jpg', 'Image_32.jpg', 'Image_11.jpg', 'Image_94.jpg', 'Image_8.jpg', 'Image_68.jpg', 'Image_55.jpg', 'Image_69.png', 'Image_30.jpeg', 'Image_4.jpg', 'Image_67.jpg', 'Image_14.jpg', 'Image_28.jpg', 'Image_23.jpg', 'Image_22.png', 'Image_15.jpg', 'Image_99.JPG', 'Image_5.JPG', 'Image_47.jpg', 'Image_95.jpg', 'Image_46.png', 'Image_29.jpg', 'Image_74.jpg', 'Image_44.jpg', 'Image_62.jpg', 'Image_12.jpg', 'Image_100.jpg', 'Image_90.png', 'Image_20.jpg', 'Image_65.png', 'Image_71.jpg', 'Image_77.jpg', 'Image_61.jpg', 'Image_13.jpg', 'Image_45.jpg', 'Image_31.jpg', 'Image_6.jpg', 'Image_51.jpg', 'Image_56.jpg', 'Image_79.jpg', 'Image_64.jpg', 'Image_78.jpg', 'Image_52.jpg', 'Image_38.jpg', 'Image_10.jpg', 'Image_72.jpg', 'Image_86.jpg', 'Image_85.jpg']\n",
            "----------------------------------------\n",
            "Directory: /root/.cache/kagglehub/datasets/kritikseth/fruit-and-vegetable-image-recognition/versions/8/train/cabbage\n",
            "Subdirectories: []\n",
            "Files: ['Image_99.jpg', 'Image_18.jpg', 'Image_37.jpg', 'Image_16.jpg', 'Image_73.jpg', 'Image_24.jpg', 'Image_54.jpg', 'Image_70.jpg', 'Image_53.jpg', 'Image_92.jpg', 'Image_48.jpg', 'Image_69.JPG', 'Image_49.JPG', 'Image_66.jpg', 'Image_50.jpg', 'Image_7.jpg', 'Image_1.jpg', 'Image_57.jpg', 'Image_36.jpeg', 'Image_5.jpg', 'Image_93.jpg', 'Image_81.jpg', 'Image_98.jpg', 'Image_3.jpg', 'Image_91.jpg', 'Image_34.jpg', 'Image_33.jpg', 'Image_2.jpg', 'Image_89.jpg', 'Image_97.jpg', 'Image_43.jpg', 'Image_76.jpg', 'Image_58.jpg', 'Image_47.JPG', 'Image_39.jpg', 'Image_75.jpg', 'Image_17.jpg', 'Image_32.jpg', 'Image_11.jpg', 'Image_90.jpg', 'Image_27.jpg', 'Image_94.jpg', 'Image_8.jpg', 'Image_68.jpg', 'Image_55.jpg', 'Image_26.JPG', 'Image_42.jpg', 'Image_59.jpg', 'Image_4.jpg', 'Image_63.png', 'Image_60.JPG', 'Image_67.jpg', 'Image_9.jpg', 'Image_14.jpg', 'Image_28.jpg', 'Image_23.jpg', 'Image_15.jpg', 'Image_80.jpg', 'Image_95.jpg', 'Image_22.jpg', 'Image_29.jpg', 'Image_74.jpg', 'Image_44.jpg', 'Image_25.jpg', 'Image_88.jpg', 'Image_21.jpg', 'Image_12.jpg', 'Image_46.jpg', 'Image_100.jpg', 'Image_20.jpg', 'Image_71.jpg', 'Image_35.jpg', 'Image_77.jpg', 'Image_61.jpg', 'Image_13.jpg', 'Image_45.jpg', 'Image_87.jpg', 'Image_31.jpg', 'Image_6.jpg', 'Image_51.jpg', 'Image_56.jpg', 'Image_65.jpg', 'Image_86.jpeg', 'Image_96.jpg', 'Image_79.jpg', 'Image_78.jpg', 'Image_52.jpg', 'Image_38.jpg', 'Image_10.jpg', 'Image_30.jpg', 'Image_72.jpg', 'Image_85.jpg']\n",
            "----------------------------------------\n",
            "Directory: /root/.cache/kagglehub/datasets/kritikseth/fruit-and-vegetable-image-recognition/versions/8/train/turnip\n",
            "Subdirectories: []\n",
            "Files: ['Image_99.jpg', 'Image_18.jpg', 'Image_37.jpg', 'Image_73.jpg', 'Image_24.jpg', 'Image_54.jpg', 'Image_70.jpg', 'Image_53.jpg', 'Image_92.jpg', 'Image_36.jpg', 'Image_15.jpeg', 'Image_82.jpg', 'Image_48.jpg', 'Image_50.jpg', 'Image_7.jpg', 'Image_1.jpg', 'Image_57.jpg', 'Image_5.jpg', 'Image_66.png', 'Image_81.jpg', 'Image_98.jpg', 'Image_3.jpg', 'Image_91.jpg', 'Image_34.jpg', 'Image_33.jpg', 'Image_2.jpg', 'Image_68.JPG', 'Image_89.jpg', 'Image_60.jpg', 'Image_97.jpg', 'Image_43.jpg', 'Image_83.png', 'Image_76.jpg', 'Image_58.jpg', 'Image_75.jpg', 'Image_17.jpg', 'Image_32.jpg', 'Image_11.jpg', 'Image_27.jpg', 'Image_94.jpg', 'Image_8.jpg', 'Image_39.png', 'Image_55.jpg', 'Image_69.png', 'Image_42.jpg', 'Image_59.jpg', 'Image_4.jpg', 'Image_67.jpg', 'Image_9.jpg', 'Image_14.jpg', 'Image_28.jpg', 'Image_23.jpg', 'Image_22.png', 'Image_90.jpeg', 'Image_80.jpg', 'Image_95.jpg', 'Image_29.jpg', 'Image_74.jpg', 'Image_16.JPG', 'Image_44.jpg', 'Image_25.jpg', 'Image_88.jpg', 'Image_21.jpg', 'Image_62.jpg', 'Image_12.jpg', 'Image_19.jpg', 'Image_46.jpg', 'Image_100.jpg', 'Image_84.jpg', 'Image_20.jpg', 'Image_71.jpg', 'Image_35.jpg', 'Image_77.jpg', 'Image_61.jpg', 'Image_13.jpg', 'Image_45.jpg', 'Image_87.jpg', 'Image_31.jpg', 'Image_6.jpg', 'Image_51.png', 'Image_56.jpg', 'Image_26.jpg', 'Image_63.JPG', 'Image_65.jpg', 'Image_41.jpg', 'Image_96.jpg', 'Image_79.jpg', 'Image_64.jpg', 'Image_93.JPG', 'Image_78.jpg', 'Image_52.jpg', 'Image_72.JPG', 'Image_38.jpg', 'Image_10.jpg', 'Image_30.jpg', 'Image_40.jpg', 'Image_86.jpg', 'Image_85.jpg']\n",
            "----------------------------------------\n",
            "Directory: /root/.cache/kagglehub/datasets/kritikseth/fruit-and-vegetable-image-recognition/versions/8/train/pineapple\n",
            "Subdirectories: []\n",
            "Files: ['Image_99.jpg', 'Image_18.jpg', 'Image_37.jpg', 'Image_16.jpg', 'Image_73.jpg', 'Image_41.png', 'Image_45.png', 'Image_54.jpg', 'Image_70.jpg', 'Image_53.jpg', 'Image_68.png', 'Image_36.jpg', 'Image_82.jpg', 'Image_69.jpg', 'Image_48.jpg', 'Image_79.png', 'Image_66.jpg', 'Image_50.jpg', 'Image_51.JPG', 'Image_7.jpg', 'Image_1.jpg', 'Image_57.jpg', 'Image_5.jpg', 'Image_93.jpg', 'Image_92.png', 'Image_81.jpg', 'Image_98.jpg', 'Image_3.jpg', 'Image_91.jpg', 'Image_58.png', 'Image_34.jpg', 'Image_83.jpg', 'Image_33.jpg', 'Image_2.jpg', 'Image_97.jpg', 'Image_43.jpg', 'Image_87.png', 'Image_76.jpg', 'Image_49.jpg', 'Image_38.jpeg', 'Image_39.jpg', 'Image_75.jpg', 'Image_17.jpg', 'Image_63.jpg', 'Image_32.jpg', 'Image_11.jpg', 'Image_90.jpg', 'Image_27.jpg', 'Image_8.jpg', 'Image_55.jpg', 'Image_42.jpg', 'Image_59.jpg', 'Image_4.jpg', 'Image_67.jpg', 'Image_9.jpg', 'Image_14.jpg', 'Image_28.jpg', 'Image_23.jpg', 'Image_15.jpg', 'Image_24.png', 'Image_26.png', 'Image_80.jpg', 'Image_47.jpg', 'Image_95.jpg', 'Image_22.jpg', 'Image_74.jpg', 'Image_44.jpg', 'Image_25.jpg', 'Image_88.jpg', 'Image_21.jpg', 'Image_62.jpg', 'Image_12.jpg', 'Image_19.jpg', 'Image_46.jpg', 'Image_100.jpg', 'Image_84.jpg', 'Image_20.jpg', 'Image_71.jpg', 'Image_60.jpeg', 'Image_31.jpeg', 'Image_29.png', 'Image_35.jpg', 'Image_77.jpg', 'Image_61.jpg', 'Image_13.jpg', 'Image_6.jpg', 'Image_56.jpg', 'Image_89.png', 'Image_65.jpg', 'Image_96.jpg', 'Image_64.jpg', 'Image_78.jpg', 'Image_52.jpg', 'Image_10.jpg', 'Image_30.jpg', 'Image_72.jpg', 'Image_40.jpg', 'Image_86.jpg', 'Image_85.jpg']\n",
            "----------------------------------------\n",
            "Directory: /root/.cache/kagglehub/datasets/kritikseth/fruit-and-vegetable-image-recognition/versions/8/train/lettuce\n",
            "Subdirectories: []\n",
            "Files: ['Image_99.jpg', 'Image_18.jpg', 'Image_37.jpg', 'Image_16.jpg', 'Image_73.jpg', 'Image_24.jpg', 'Image_54.jpg', 'Image_53.jpg', 'Image_74.png', 'Image_82.jpg', 'Image_69.jpg', 'Image_48.jpg', 'Image_66.jpg', 'Image_50.jpg', 'Image_7.jpg', 'Image_1.jpg', 'Image_70.png', 'Image_57.jpg', 'Image_23.jpeg', 'Image_93.jpg', 'Image_92.png', 'Image_98.jpg', 'Image_3.jpg', 'Image_91.jpg', 'Image_34.jpg', 'Image_83.jpg', 'Image_33.jpg', 'Image_2.jpg', 'Image_89.jpg', 'Image_60.jpg', 'Image_97.jpg', 'Image_43.jpg', 'Image_5.jpeg', 'Image_87.png', 'Image_76.jpg', 'Image_58.jpg', 'Image_49.jpg', 'Image_39.jpg', 'Image_17.jpg', 'Image_63.jpg', 'Image_32.jpg', 'Image_11.jpg', 'Image_90.jpg', 'Image_27.jpg', 'Image_94.jpg', 'Image_8.jpg', 'Image_55.jpg', 'Image_42.jpg', 'Image_4.jpg', 'Image_81.png', 'Image_67.jpg', 'Image_9.jpg', 'Image_14.jpg', 'Image_15.jpg', 'Image_80.jpg', 'Image_47.jpg', 'Image_95.jpg', 'Image_22.jpg', 'Image_29.jpg', 'Image_44.jpg', 'Image_25.jpg', 'Image_88.jpg', 'Image_21.jpg', 'Image_62.jpg', 'Image_36.JPG', 'Image_12.jpg', 'Image_19.jpg', 'Image_46.jpg', 'Image_84.jpg', 'Image_20.jpg', 'Image_100.jpeg', 'Image_71.jpg', 'Image_35.jpg', 'Image_77.jpg', 'Image_61.jpg', 'Image_13.jpg', 'Image_45.jpg', 'Image_31.jpg', 'Image_6.jpg', 'Image_51.jpg', 'Image_56.jpg', 'Image_26.jpg', 'Image_65.jpg', 'Image_41.jpg', 'Image_96.jpg', 'Image_79.jpg', 'Image_64.jpg', 'Image_78.jpg', 'Image_28.JPG', 'Image_52.jpg', 'Image_38.jpg', 'Image_10.jpg', 'Image_30.jpg', 'Image_72.jpg', 'Image_40.jpg', 'Image_86.jpg', 'Image_85.jpg']\n",
            "----------------------------------------\n",
            "Directory: /root/.cache/kagglehub/datasets/kritikseth/fruit-and-vegetable-image-recognition/versions/8/train/raddish\n",
            "Subdirectories: []\n",
            "Files: ['Image_99.jpg', 'Image_18.jpg', 'Image_37.jpg', 'Image_16.jpg', 'Image_59.png', 'Image_11.png', 'Image_38.png', 'Image_70.jpg', 'Image_36.jpg', 'Image_82.jpg', 'Image_69.jpg', 'Image_66.jpg', 'Image_50.jpg', 'Image_7.jpg', 'Image_1.jpg', 'Image_57.jpg', 'Image_5.jpg', 'Image_81.jpg', 'Image_71.png', 'Image_98.jpg', 'Image_3.jpg', 'Image_24.JPG', 'Image_91.jpg', 'Image_34.jpg', 'Image_33.jpg', 'Image_2.jpg', 'Image_89.jpg', 'Image_60.jpg', 'Image_97.jpg', 'Image_43.jpg', 'Image_58.jpg', 'Image_49.jpg', 'Image_39.jpg', 'Image_75.jpg', 'Image_17.jpg', 'Image_63.jpg', 'Image_32.jpg', 'Image_90.jpg', 'Image_88.png', 'Image_27.jpg', 'Image_68.jpg', 'Image_55.jpg', 'Image_42.jpg', 'Image_4.jpg', 'Image_67.jpg', 'Image_14.jpg', 'Image_28.jpg', 'Image_23.jpg', 'Image_15.jpg', 'Image_22.jpg', 'Image_29.jpg', 'Image_44.jpg', 'Image_25.jpg', 'Image_21.jpg', 'Image_12.jpg', 'Image_19.jpg', 'Image_48.png', 'Image_100.jpg', 'Image_84.jpg', 'Image_20.jpg', 'Image_8.jpeg', 'Image_35.jpg', 'Image_13.jpg', 'Image_45.jpg', 'Image_31.jpg', 'Image_6.jpg', 'Image_56.jpg', 'Image_26.jpg', 'Image_65.jpg', 'Image_41.jpg', 'Image_96.jpg', 'Image_64.jpg', 'Image_78.jpg', 'Image_54.png', 'Image_52.jpg', 'Image_10.jpg', 'Image_9.png', 'Image_72.jpg', 'Image_40.jpg', 'Image_30.JPG', 'Image_85.jpg']\n",
            "----------------------------------------\n",
            "Directory: /root/.cache/kagglehub/datasets/kritikseth/fruit-and-vegetable-image-recognition/versions/8/train/soy beans\n",
            "Subdirectories: []\n",
            "Files: ['Image_99.jpg', 'Image_37.jpg', 'Image_16.jpg', 'Image_73.jpg', 'Image_24.jpg', 'Image_54.jpg', 'Image_70.jpg', 'Image_92.jpg', 'Image_36.jpg', 'Image_69.jpg', 'Image_48.jpg', 'Image_66.jpg', 'Image_50.jpg', 'Image_7.jpg', 'Image_1.jpg', 'Image_57.jpg', 'Image_5.jpg', 'Image_93.jpg', 'Image_81.jpg', 'Image_98.jpg', 'Image_3.jpg', 'Image_91.jpg', 'Image_83.jpg', 'Image_33.jpg', 'Image_2.jpg', 'Image_89.jpg', 'Image_60.jpg', 'Image_13.png', 'Image_97.jpg', 'Image_43.jpg', 'Image_76.jpg', 'Image_58.jpg', 'Image_49.jpg', 'Image_39.jpg', 'Image_34.png', 'Image_75.jpg', 'Image_17.jpg', 'Image_63.jpg', 'Image_11.jpg', 'Image_90.jpg', 'Image_27.jpg', 'Image_94.jpg', 'Image_8.jpg', 'Image_68.jpg', 'Image_55.jpg', 'Image_59.jpg', 'Image_4.jpg', 'Image_67.jpg', 'Image_9.jpg', 'Image_14.jpg', 'Image_28.jpg', 'Image_23.jpg', 'Image_15.jpg', 'Image_80.jpg', 'Image_47.jpg', 'Image_95.jpg', 'Image_22.jpg', 'Image_29.jpg', 'Image_74.jpg', 'Image_44.jpg', 'Image_25.jpg', 'Image_88.jpg', 'Image_21.jpg', 'Image_62.jpg', 'Image_12.jpg', 'Image_19.jpg', 'Image_46.jpg', 'Image_100.jpg', 'Image_32.png', 'Image_84.jpg', 'Image_20.jpg', 'Image_71.jpg', 'Image_35.jpg', 'Image_77.jpg', 'Image_61.jpg', 'Image_45.jpg', 'Image_87.jpg', 'Image_31.jpg', 'Image_6.jpg', 'Image_51.jpg', 'Image_56.jpg', 'Image_26.jpg', 'Image_65.jpg', 'Image_41.jpg', 'Image_79.jpg', 'Image_64.jpg', 'Image_78.jpg', 'Image_52.jpg', 'Image_38.jpg', 'Image_10.jpg', 'Image_30.jpg', 'Image_18.JPG', 'Image_72.jpg', 'Image_42.png', 'Image_40.jpg', 'Image_86.jpg', 'Image_85.jpg']\n",
            "----------------------------------------\n",
            "Directory: /root/.cache/kagglehub/datasets/kritikseth/fruit-and-vegetable-image-recognition/versions/8/train/spinach\n",
            "Subdirectories: []\n",
            "Files: ['Image_99.jpg', 'Image_18.jpg', 'Image_37.jpg', 'Image_16.jpg', 'Image_73.jpg', 'Image_24.jpg', 'Image_54.jpg', 'Image_53.jpg', 'Image_68.png', 'Image_92.jpg', 'Image_36.jpg', 'Image_82.jpg', 'Image_69.jpg', 'Image_48.jpg', 'Image_66.jpg', 'Image_50.jpg', 'Image_7.jpg', 'Image_1.jpg', 'Image_57.jpg', 'Image_5.jpg', 'Image_93.jpg', 'Image_81.jpg', 'Image_80.png', 'Image_98.jpg', 'Image_3.jpg', 'Image_34.jpg', 'Image_83.jpg', 'Image_33.jpg', 'Image_2.jpg', 'Image_89.jpg', 'Image_60.jpg', 'Image_97.jpg', 'Image_43.jpg', 'Image_49.png', 'Image_76.jpg', 'Image_58.jpg', 'Image_39.jpg', 'Image_75.jpg', 'Image_17.jpg', 'Image_32.jpg', 'Image_11.jpg', 'Image_27.jpg', 'Image_94.jpg', 'Image_8.jpg', 'Image_55.jpg', 'Image_42.jpg', 'Image_59.jpg', 'Image_4.jpg', 'Image_63.png', 'Image_9.jpg', 'Image_14.jpg', 'Image_28.jpg', 'Image_67.png', 'Image_23.jpg', 'Image_15.jpg', 'Image_71.JPG', 'Image_47.jpg', 'Image_95.jpg', 'Image_22.jpg', 'Image_29.jpg', 'Image_74.jpg', 'Image_44.jpg', 'Image_25.jpg', 'Image_88.jpg', 'Image_21.jpg', 'Image_91.JPG', 'Image_62.jpg', 'Image_12.jpg', 'Image_70.JPG', 'Image_19.jpg', 'Image_46.jpg', 'Image_100.jpg', 'Image_90.png', 'Image_84.jpg', 'Image_20.jpg', 'Image_35.jpg', 'Image_77.jpg', 'Image_61.jpg', 'Image_52.jpeg', 'Image_13.jpg', 'Image_45.jpg', 'Image_31.jpg', 'Image_6.jpg', 'Image_51.jpg', 'Image_26.jpg', 'Image_65.jpg', 'Image_41.jpg', 'Image_96.jpg', 'Image_79.jpg', 'Image_78.jpg', 'Image_38.jpg', 'Image_10.jpg', 'Image_30.jpg', 'Image_72.jpg', 'Image_40.jpg', 'Image_86.jpg', 'Image_85.jpg']\n",
            "----------------------------------------\n",
            "Directory: /root/.cache/kagglehub/datasets/kritikseth/fruit-and-vegetable-image-recognition/versions/8/train/bell pepper\n",
            "Subdirectories: []\n",
            "Files: ['Image_37.jpg', 'Image_16.jpg', 'Image_73.jpg', 'Image_41.png', 'Image_24.jpg', 'Image_54.jpg', 'Image_70.jpg', 'Image_53.jpg', 'Image_36.jpg', 'Image_82.jpg', 'Image_69.jpg', 'Image_66.jpg', 'Image_50.jpg', 'Image_79.JPG', 'Image_7.jpg', 'Image_1.jpg', 'Image_57.jpg', 'Image_5.jpg', 'Image_93.jpg', 'Image_72.png', 'Image_98.jpg', 'Image_34.jpg', 'Image_83.jpg', 'Image_33.jpg', 'Image_2.jpg', 'Image_32.JPG', 'Image_47.png', 'Image_89.jpg', 'Image_60.jpg', 'Image_97.jpg', 'Image_43.jpg', 'Image_76.jpg', 'Image_49.jpg', 'Image_3.jpeg', 'Image_39.jpg', 'Image_75.jpg', 'Image_63.jpg', 'Image_11.jpg', 'Image_90.jpg', 'Image_27.jpg', 'Image_94.jpg', 'Image_8.jpg', 'Image_55.jpg', 'Image_42.jpg', 'Image_4.jpg', 'Image_9.jpg', 'Image_14.jpg', 'Image_28.jpg', 'Image_67.png', 'Image_23.jpg', 'Image_15.jpg', 'Image_95.jpg', 'Image_22.jpg', 'Image_46.png', 'Image_29.jpg', 'Image_74.jpg', 'Image_44.jpg', 'Image_25.jpg', 'Image_88.jpg', 'Image_21.jpg', 'Image_62.jpg', 'Image_12.jpg', 'Image_19.jpg', 'Image_48.png', 'Image_100.jpg', 'Image_84.jpg', 'Image_20.jpg', 'Image_71.jpg', 'Image_31.jpeg', 'Image_35.jpg', 'Image_77.jpg', 'Image_61.jpg', 'Image_13.jpg', 'Image_45.jpg', 'Image_6.jpg', 'Image_51.jpg', 'Image_56.jpg', 'Image_26.jpg', 'Image_65.jpg', 'Image_68.jpeg', 'Image_64.jpg', 'Image_99.jpeg', 'Image_78.jpg', 'Image_52.jpg', 'Image_38.jpg', 'Image_10.jpg', 'Image_30.jpg', 'Image_40.jpg', 'Image_86.jpg', 'Image_85.jpg']\n",
            "----------------------------------------\n",
            "Directory: /root/.cache/kagglehub/datasets/kritikseth/fruit-and-vegetable-image-recognition/versions/8/train/banana\n",
            "Subdirectories: []\n",
            "Files: ['Image_37.jpg', 'Image_16.jpg', 'Image_73.jpg', 'Image_11.png', 'Image_24.jpg', 'Image_54.jpg', 'Image_92.jpg', 'Image_82.jpg', 'Image_69.jpg', 'Image_81.jpeg', 'Image_66.jpg', 'Image_50.jpg', 'Image_1.jpg', 'Image_57.jpg', 'Image_5.jpg', 'Image_93.jpg', 'Image_80.png', 'Image_98.jpg', 'Image_3.jpg', 'Image_91.jpg', 'Image_58.png', 'Image_89.jpg', 'Image_97.jpg', 'Image_43.png', 'Image_53.png', 'Image_83.png', 'Image_76.jpg', 'Image_49.jpg', 'Image_75.jpg', 'Image_63.jpg', 'Image_32.jpg', 'Image_90.jpg', 'Image_88.png', 'Image_27.jpg', 'Image_8.jpg', 'Image_68.jpg', 'Image_55.jpg', 'Image_42.jpg', 'Image_59.jpg', 'Image_4.jpg', 'Image_67.jpg', 'Image_9.jpg', 'Image_14.jpg', 'Image_28.jpg', 'Image_23.jpg', 'Image_15.jpg', 'Image_47.jpg', 'Image_95.jpg', 'Image_44.jpg', 'Image_25.jpg', 'Image_62.jpg', 'Image_48.png', 'Image_46.jpg', 'Image_100.jpg', 'Image_84.jpg', 'Image_65.png', 'Image_71.jpg', 'Image_77.jpg', 'Image_13.jpg', 'Image_45.jpg', 'Image_31.jpg', 'Image_6.jpg', 'Image_56.jpg', 'Image_41.jpg', 'Image_96.jpg', 'Image_79.jpg', 'Image_64.jpg', 'Image_51.jpeg', 'Image_52.jpg', 'Image_61.png', 'Image_72.jpg', 'Image_40.jpg', 'Image_86.jpg', 'Image_85.jpg', 'Image_21.JPG']\n",
            "----------------------------------------\n",
            "Directory: /root/.cache/kagglehub/datasets/kritikseth/fruit-and-vegetable-image-recognition/versions/8/train/mango\n",
            "Subdirectories: []\n",
            "Files: ['Image_99.jpg', 'Image_18.jpg', 'Image_37.jpg', 'Image_16.jpg', 'Image_73.jpg', 'Image_11.png', 'Image_24.jpg', 'Image_54.jpg', 'Image_53.jpg', 'Image_92.jpg', 'Image_36.jpg', 'Image_69.jpg', 'Image_48.jpg', 'Image_79.png', 'Image_66.jpg', 'Image_50.jpg', 'Image_7.jpg', 'Image_1.jpg', 'Image_5.jpg', 'Image_93.jpg', 'Image_81.jpg', 'Image_98.jpg', 'Image_3.jpg', 'Image_91.jpg', 'Image_34.jpg', 'Image_83.jpg', 'Image_56.png', 'Image_33.jpg', 'Image_2.jpg', 'Image_23.png', 'Image_97.jpg', 'Image_43.jpg', 'Image_49.jpg', 'Image_39.jpg', 'Image_75.jpg', 'Image_63.jpg', 'Image_32.jpg', 'Image_27.jpg', 'Image_94.jpg', 'Image_8.jpg', 'Image_68.jpg', 'Image_42.jpg', 'Image_59.jpg', 'Image_4.jpg', 'Image_67.jpg', 'Image_9.jpg', 'Image_14.jpg', 'Image_28.jpg', 'Image_15.jpg', 'Image_47.jpg', 'Image_95.jpg', 'Image_17.JPG', 'Image_22.jpg', 'Image_44.jpg', 'Image_25.jpg', 'Image_88.jpg', 'Image_21.jpg', 'Image_62.jpg', 'Image_12.jpg', 'Image_19.jpg', 'Image_46.jpg', 'Image_100.jpg', 'Image_90.png', 'Image_20.jpg', 'Image_71.jpg', 'Image_29.png', 'Image_35.jpg', 'Image_77.jpg', 'Image_61.jpg', 'Image_13.jpg', 'Image_45.jpg', 'Image_87.jpg', 'Image_31.jpg', 'Image_6.jpg', 'Image_51.png', 'Image_26.jpg', 'Image_41.jpg', 'Image_96.jpg', 'Image_55.JPG', 'Image_64.jpg', 'Image_52.jpg', 'Image_38.jpg', 'Image_10.jpg', 'Image_30.jpg', 'Image_86.jpg', 'Image_85.jpg']\n",
            "----------------------------------------\n",
            "Directory: /root/.cache/kagglehub/datasets/kritikseth/fruit-and-vegetable-image-recognition/versions/8/train/ginger\n",
            "Subdirectories: []\n",
            "Files: ['Image_99.jpg', 'Image_82.jpeg', 'Image_18.jpg', 'Image_37.jpg', 'Image_16.jpg', 'Image_73.jpg', 'Image_24.jpg', 'Image_54.jpg', 'Image_53.jpg', 'Image_92.jpg', 'Image_36.jpg', 'Image_69.jpg', 'Image_7.jpg', 'Image_1.jpg', 'Image_57.jpg', 'Image_5.jpg', 'Image_98.jpg', 'Image_3.jpg', 'Image_34.jpg', 'Image_33.jpg', 'Image_2.jpg', 'Image_60.jpg', 'Image_43.jpg', 'Image_58.jpg', 'Image_17.jpg', 'Image_63.jpg', 'Image_32.jpg', 'Image_11.jpg', 'Image_27.jpg', 'Image_8.jpg', 'Image_68.jpg', 'Image_39.png', 'Image_4.jpg', 'Image_67.jpg', 'Image_9.jpg', 'Image_14.jpg', 'Image_28.jpg', 'Image_15.jpg', 'Image_95.jpg', 'Image_22.jpg', 'Image_74.jpg', 'Image_25.jpg', 'Image_21.jpg', 'Image_62.jpg', 'Image_12.jpg', 'Image_19.jpg', 'Image_100.jpg', 'Image_20.jpg', 'Image_71.jpg', 'Image_29.png', 'Image_35.jpg', 'Image_61.jpg', 'Image_13.jpg', 'Image_31.jpg', 'Image_6.jpg', 'Image_26.jpg', 'Image_41.jpg', 'Image_96.jpg', 'Image_79.jpg', 'Image_64.jpg', 'Image_78.jpg', 'Image_38.jpg', 'Image_10.jpg', 'Image_30.jpg', 'Image_72.jpg', 'Image_42.png', 'Image_40.jpg', 'Image_85.jpg']\n",
            "----------------------------------------\n",
            "Directory: /root/.cache/kagglehub/datasets/kritikseth/fruit-and-vegetable-image-recognition/versions/8/train/cauliflower\n",
            "Subdirectories: []\n",
            "Files: ['Image_99.jpg', 'Image_18.jpg', 'Image_37.jpg', 'Image_16.jpg', 'Image_73.jpg', 'Image_24.jpg', 'Image_70.jpg', 'Image_53.jpg', 'Image_36.jpg', 'Image_82.jpg', 'Image_66.jpg', 'Image_50.jpg', 'Image_7.jpg', 'Image_1.jpg', 'Image_57.jpg', 'Image_93.jpg', 'Image_98.jpg', 'Image_3.jpg', 'Image_2.jpg', 'Image_89.jpg', 'Image_60.jpg', 'Image_97.jpg', 'Image_43.jpg', 'Image_76.jpg', 'Image_58.jpg', 'Image_49.jpg', 'Image_25.JPG', 'Image_75.jpg', 'Image_17.jpg', 'Image_63.jpg', 'Image_33.png', 'Image_32.jpg', 'Image_11.jpg', 'Image_27.jpg', 'Image_8.jpg', 'Image_39.png', 'Image_55.jpg', 'Image_42.jpg', 'Image_59.jpg', 'Image_4.jpg', 'Image_34.JPG', 'Image_9.jpg', 'Image_14.jpg', 'Image_28.jpg', 'Image_23.jpg', 'Image_15.jpg', 'Image_5.JPG', 'Image_47.jpg', 'Image_95.jpg', 'Image_22.jpg', 'Image_29.jpg', 'Image_74.jpg', 'Image_44.jpg', 'Image_88.jpg', 'Image_52.png', 'Image_62.jpg', 'Image_12.jpg', 'Image_19.jpg', 'Image_48.png', 'Image_100.jpg', 'Image_20.jpg', 'Image_71.jpg', 'Image_35.jpg', 'Image_77.jpg', 'Image_61.jpg', 'Image_13.jpg', 'Image_31.jpg', 'Image_6.jpg', 'Image_56.jpg', 'Image_26.jpg', 'Image_65.jpg', 'Image_41.jpg', 'Image_96.jpg', 'Image_21.png', 'Image_38.jpg', 'Image_10.jpg', 'Image_30.jpg', 'Image_40.jpg', 'Image_85.jpg']\n",
            "----------------------------------------\n",
            "Directory: /root/.cache/kagglehub/datasets/kritikseth/fruit-and-vegetable-image-recognition/versions/8/train/chilli pepper\n",
            "Subdirectories: []\n",
            "Files: ['Image_99.jpg', 'Image_18.jpg', 'Image_37.jpg', 'Image_73.jpg', 'Image_24.jpg', 'Image_70.jpg', 'Image_53.jpg', 'Image_92.jpg', 'Image_36.jpg', 'Image_69.jpg', 'Image_48.jpg', 'Image_66.jpg', 'Image_50.jpg', 'Image_1.jpg', 'Image_57.jpg', 'Image_5.jpg', 'Image_81.jpg', 'Image_78.JPG', 'Image_28.png', 'Image_98.jpg', 'Image_3.jpg', 'Image_91.jpg', 'Image_34.jpg', 'Image_83.jpg', 'Image_33.jpg', 'Image_54.jpeg', 'Image_89.jpg', 'Image_60.jpg', 'Image_97.jpg', 'Image_43.jpg', 'Image_12.JPG', 'Image_49.jpg', 'Image_47.JPG', 'Image_39.jpg', 'Image_17.jpg', 'Image_63.jpg', 'Image_32.jpg', 'Image_11.jpg', 'Image_90.jpg', 'Image_27.jpg', 'Image_94.jpg', 'Image_8.jpg', 'Image_68.jpg', 'Image_55.jpg', 'Image_42.jpg', 'Image_59.jpg', 'Image_4.jpg', 'Image_67.jpg', 'Image_9.jpg', 'Image_14.jpg', 'Image_7.jpeg', 'Image_23.jpg', 'Image_15.jpg', 'Image_6.png', 'Image_22.jpg', 'Image_29.jpg', 'Image_95.png', 'Image_74.jpg', 'Image_16.JPG', 'Image_25.jpg', 'Image_21.jpg', 'Image_62.jpg', 'Image_44.JPG', 'Image_84.jpg', 'Image_20.jpg', 'Image_71.jpg', 'Image_35.jpg', 'Image_61.jpg', 'Image_88.JPG', 'Image_13.jpg', 'Image_45.jpg', 'Image_87.jpg', 'Image_31.jpg', 'Image_51.jpg', 'Image_56.jpg', 'Image_26.jpg', 'Image_65.jpg', 'Image_41.jpg', 'Image_96.jpg', 'Image_79.jpg', 'Image_64.jpg', 'Image_52.jpg', 'Image_38.jpg', 'Image_10.jpg', 'Image_30.jpg', 'Image_72.jpg', 'Image_40.jpg']\n",
            "----------------------------------------\n",
            "Directory: /root/.cache/kagglehub/datasets/kritikseth/fruit-and-vegetable-image-recognition/versions/8/train/capsicum\n",
            "Subdirectories: []\n",
            "Files: ['Image_99.jpg', 'Image_18.jpg', 'Image_37.jpg', 'Image_16.jpg', 'Image_73.jpg', 'Image_24.jpg', 'Image_54.jpg', 'Image_70.jpg', 'Image_53.jpg', 'Image_71.jpeg', 'Image_92.jpg', 'Image_36.jpg', 'Image_82.jpg', 'Image_69.jpg', 'Image_48.jpg', 'Image_66.jpg', 'Image_50.jpg', 'Image_79.JPG', 'Image_7.jpg', 'Image_1.jpg', 'Image_5.jpg', 'Image_93.jpg', 'Image_81.jpg', 'Image_88.jpeg', 'Image_98.jpg', 'Image_34.jpg', 'Image_83.jpg', 'Image_33.jpg', 'Image_2.jpg', 'Image_89.jpg', 'Image_60.jpg', 'Image_97.jpg', 'Image_43.jpg', 'Image_49.png', 'Image_76.jpg', 'Image_39.jpg', 'Image_75.jpg', 'Image_17.jpg', 'Image_100.JPG', 'Image_32.jpg', 'Image_90.jpg', 'Image_27.jpg', 'Image_8.jpg', 'Image_68.jpg', 'Image_55.jpg', 'Image_42.jpg', 'Image_4.jpg', 'Image_67.jpg', 'Image_9.jpg', 'Image_14.jpg', 'Image_28.jpg', 'Image_11.JPG', 'Image_23.jpg', 'Image_15.jpg', 'Image_80.jpg', 'Image_47.jpg', 'Image_22.jpg', 'Image_29.jpg', 'Image_95.png', 'Image_74.jpg', 'Image_25.jpg', 'Image_21.jpg', 'Image_62.jpg', 'Image_12.jpg', 'Image_19.jpg', 'Image_46.jpg', 'Image_84.jpg', 'Image_20.jpg', 'Image_35.jpg', 'Image_13.jpg', 'Image_45.jpg', 'Image_87.jpg', 'Image_31.jpg', 'Image_6.jpg', 'Image_51.jpg', 'Image_56.jpg', 'Image_26.jpg', 'Image_65.jpg', 'Image_41.jpg', 'Image_64.jpg', 'Image_96.JPG', 'Image_78.jpg', 'Image_38.jpg', 'Image_10.jpg', 'Image_30.jpg', 'Image_3.JPG', 'Image_40.jpg', 'Image_86.jpg', 'Image_85.jpg']\n",
            "----------------------------------------\n",
            "Directory: /root/.cache/kagglehub/datasets/kritikseth/fruit-and-vegetable-image-recognition/versions/8/train/tomato\n",
            "Subdirectories: []\n",
            "Files: ['Image_99.jpg', 'Image_18.jpg', 'Image_37.jpg', 'Image_16.jpg', 'Image_73.jpg', 'Image_24.jpg', 'Image_54.jpg', 'Image_70.jpg', 'Image_53.jpg', 'Image_35.jpeg', 'Image_31.png', 'Image_82.jpg', 'Image_69.jpg', 'Image_66.jpg', 'Image_50.jpg', 'Image_7.jpg', 'Image_1.jpg', 'Image_57.jpg', 'Image_5.jpg', 'Image_93.jpg', 'Image_81.jpg', 'Image_80.png', 'Image_98.jpg', 'Image_3.jpg', 'Image_91.jpg', 'Image_34.jpg', 'Image_83.jpg', 'Image_33.jpg', 'Image_2.jpg', 'Image_75.jpeg', 'Image_89.jpg', 'Image_60.jpg', 'Image_97.jpg', 'Image_43.jpg', 'Image_76.jpg', 'Image_58.jpg', 'Image_62.png', 'Image_39.jpg', 'Image_17.jpg', 'Image_63.jpg', 'Image_32.jpg', 'Image_11.jpg', 'Image_90.jpg', 'Image_27.jpg', 'Image_8.jpg', 'Image_68.jpg', 'Image_55.jpg', 'Image_59.jpg', 'Image_4.jpg', 'Image_67.jpg', 'Image_9.jpg', 'Image_14.jpg', 'Image_28.jpg', 'Image_23.jpg', 'Image_15.jpg', 'Image_47.jpg', 'Image_22.jpg', 'Image_46.png', 'Image_29.jpg', 'Image_74.jpg', 'Image_44.jpg', 'Image_25.jpg', 'Image_21.jpg', 'Image_12.jpg', 'Image_19.jpg', 'Image_48.png', 'Image_100.jpg', 'Image_84.jpg', 'Image_20.jpg', 'Image_71.jpg', 'Image_77.jpg', 'Image_61.jpg', 'Image_13.jpg', 'Image_45.jpg', 'Image_87.jpg', 'Image_6.jpg', 'Image_51.jpg', 'Image_56.jpg', 'Image_26.jpg', 'Image_65.jpg', 'Image_41.jpg', 'Image_96.jpg', 'Image_79.jpg', 'Image_78.jpg', 'Image_52.jpg', 'Image_38.jpg', 'Image_10.jpg', 'Image_30.jpg', 'Image_72.jpg', 'Image_42.png', 'Image_40.jpg', 'Image_86.jpg']\n",
            "----------------------------------------\n",
            "Directory: /root/.cache/kagglehub/datasets/kritikseth/fruit-and-vegetable-image-recognition/versions/8/train/kiwi\n",
            "Subdirectories: []\n",
            "Files: ['Image_99.jpg', 'Image_18.jpg', 'Image_16.jpg', 'Image_73.jpg', 'Image_24.jpg', 'Image_54.jpg', 'Image_70.jpg', 'Image_53.jpg', 'Image_92.jpg', 'Image_36.jpg', 'Image_37.png', 'Image_82.jpg', 'Image_48.jpg', 'Image_66.jpg', 'Image_50.jpg', 'Image_7.jpg', 'Image_1.jpg', 'Image_57.jpg', 'Image_5.jpg', 'Image_93.jpg', 'Image_98.jpg', 'Image_3.jpg', 'Image_34.jpg', 'Image_83.jpg', 'Image_33.jpg', 'Image_2.jpg', 'Image_89.jpg', 'Image_60.jpg', 'Image_97.jpg', 'Image_43.jpg', 'Image_87.png', 'Image_76.jpg', 'Image_49.jpg', 'Image_75.jpg', 'Image_17.jpg', 'Image_32.jpg', 'Image_11.jpg', 'Image_90.jpg', 'Image_27.jpg', 'Image_8.jpg', 'Image_68.jpg', 'Image_55.jpg', 'Image_42.jpg', 'Image_59.jpg', 'Image_4.jpg', 'Image_63.png', 'Image_67.jpg', 'Image_9.jpg', 'Image_14.jpg', 'Image_28.jpg', 'Image_23.jpg', 'Image_15.jpg', 'Image_80.jpg', 'Image_95.jpg', 'Image_22.jpg', 'Image_44.jpg', 'Image_25.jpg', 'Image_88.jpg', 'Image_21.jpg', 'Image_64.png', 'Image_62.jpg', 'Image_12.jpg', 'Image_19.jpg', 'Image_100.jpg', 'Image_84.jpg', 'Image_20.jpg', 'Image_65.png', 'Image_71.jpg', 'Image_29.png', 'Image_35.jpg', 'Image_77.jpg', 'Image_61.jpg', 'Image_13.jpg', 'Image_31.jpg', 'Image_6.jpg', 'Image_51.jpg', 'Image_56.jpg', 'Image_26.jpg', 'Image_41.jpg', 'Image_79.jpg', 'Image_78.jpg', 'Image_52.jpg', 'Image_38.jpg', 'Image_10.jpg', 'Image_30.jpg', 'Image_72.jpg', 'Image_40.jpg', 'Image_85.jpg']\n",
            "----------------------------------------\n",
            "Directory: /root/.cache/kagglehub/datasets/kritikseth/fruit-and-vegetable-image-recognition/versions/8/train/paprika\n",
            "Subdirectories: []\n",
            "Files: ['Image_99.jpg', 'Image_37.jpg', 'Image_16.jpg', 'Image_73.jpg', 'Image_24.jpg', 'Image_70.jpg', 'Image_82.jpg', 'Image_66.jpg', 'Image_7.jpg', 'Image_1.jpg', 'Image_57.jpg', 'Image_36.jpeg', 'Image_86.png', 'Image_5.jpg', 'Image_10.jpeg', 'Image_81.jpg', 'Image_98.jpg', 'Image_3.jpg', 'Image_91.jpg', 'Image_34.jpg', 'Image_83.jpg', 'Image_2.jpg', 'Image_14.png', 'Image_89.jpg', 'Image_60.jpg', 'Image_97.jpg', 'Image_58.jpg', 'Image_39.jpg', 'Image_75.jpg', 'Image_17.jpg', 'Image_63.jpg', 'Image_32.jpg', 'Image_11.jpg', 'Image_90.jpg', 'Image_27.jpg', 'Image_94.jpg', 'Image_8.jpg', 'Image_68.jpg', 'Image_42.jpg', 'Image_59.jpg', 'Image_4.jpg', 'Image_67.jpg', 'Image_9.jpg', 'Image_28.jpg', 'Image_22.png', 'Image_15.jpg', 'Image_26.png', 'Image_80.jpg', 'Image_47.jpg', 'Image_95.jpg', 'Image_29.jpg', 'Image_74.jpg', 'Image_25.jpg', 'Image_21.jpg', 'Image_18.jpeg', 'Image_12.jpg', 'Image_19.jpg', 'Image_46.jpg', 'Image_100.jpg', 'Image_84.jpg', 'Image_20.jpg', 'Image_71.jpg', 'Image_35.jpg', 'Image_77.jpg', 'Image_61.jpg', 'Image_13.jpg', 'Image_45.jpg', 'Image_87.jpg', 'Image_31.jpg', 'Image_6.jpg', 'Image_51.jpg', 'Image_56.jpg', 'Image_65.jpg', 'Image_41.jpg', 'Image_85.jpeg', 'Image_96.jpg', 'Image_55.JPG', 'Image_79.jpg', 'Image_64.jpg', 'Image_38.jpg', 'Image_30.jpg', 'Image_72.jpg', 'Image_40.jpg']\n",
            "----------------------------------------\n",
            "Directory: /root/.cache/kagglehub/datasets/kritikseth/fruit-and-vegetable-image-recognition/versions/8/test\n",
            "Subdirectories: ['sweetpotato', 'cucumber', 'eggplant', 'onion', 'peas', 'garlic', 'sweetcorn', 'lemon', 'carrot', 'pomegranate', 'watermelon', 'corn', 'pear', 'beetroot', 'grapes', 'orange', 'apple', 'jalepeno', 'potato', 'cabbage', 'turnip', 'pineapple', 'lettuce', 'raddish', 'soy beans', 'spinach', 'bell pepper', 'banana', 'mango', 'ginger', 'cauliflower', 'chilli pepper', 'capsicum', 'tomato', 'kiwi', 'paprika']\n",
            "Files: []\n",
            "----------------------------------------\n",
            "Directory: /root/.cache/kagglehub/datasets/kritikseth/fruit-and-vegetable-image-recognition/versions/8/test/sweetpotato\n",
            "Subdirectories: []\n",
            "Files: ['Image_7.jpg', 'Image_1.jpg', 'Image_5.jpg', 'Image_3.jpg', 'Image_2.jpg', 'Image_8.jpg', 'Image_4.jpg', 'Image_9.jpg', 'Image_6.jpg', 'Image_10.jpg']\n",
            "----------------------------------------\n",
            "Directory: /root/.cache/kagglehub/datasets/kritikseth/fruit-and-vegetable-image-recognition/versions/8/test/cucumber\n",
            "Subdirectories: []\n",
            "Files: ['Image_7.jpg', 'Image_1.jpg', 'Image_5.jpg', 'Image_3.jpg', 'Image_2.jpg', 'Image_8.jpg', 'Image_4.jpg', 'Image_9.jpg', 'Image_6.jpg', 'Image_10.jpg']\n",
            "----------------------------------------\n",
            "Directory: /root/.cache/kagglehub/datasets/kritikseth/fruit-and-vegetable-image-recognition/versions/8/test/eggplant\n",
            "Subdirectories: []\n",
            "Files: ['Image_7.jpg', 'Image_1.jpg', 'Image_5.jpg', 'Image_3.jpg', 'Image_2.jpg', 'Image_8.jpg', 'Image_4.jpg', 'Image_9.jpg', 'Image_6.jpg', 'Image_10.jpg']\n",
            "----------------------------------------\n",
            "Directory: /root/.cache/kagglehub/datasets/kritikseth/fruit-and-vegetable-image-recognition/versions/8/test/onion\n",
            "Subdirectories: []\n",
            "Files: ['Image_1.jpg', 'Image_5.jpg', 'Image_3.jpg', 'Image_2.jpg', 'Image_7.png', 'Image_8.jpg', 'Image_4.jpg', 'Image_9.jpg', 'Image_6.jpg', 'Image_10.jpg']\n",
            "----------------------------------------\n",
            "Directory: /root/.cache/kagglehub/datasets/kritikseth/fruit-and-vegetable-image-recognition/versions/8/test/peas\n",
            "Subdirectories: []\n",
            "Files: ['Image_7.jpg', 'Image_1.jpg', 'Image_5.jpg', 'Image_3.jpg', 'Image_2.jpg', 'Image_8.jpg', 'Image_4.jpg', 'Image_9.jpg', 'Image_6.png', 'Image_10.jpg']\n",
            "----------------------------------------\n",
            "Directory: /root/.cache/kagglehub/datasets/kritikseth/fruit-and-vegetable-image-recognition/versions/8/test/garlic\n",
            "Subdirectories: []\n",
            "Files: ['Image_7.jpg', 'Image_1.jpg', 'Image_5.jpg', 'Image_3.jpg', 'Image_2.jpg', 'Image_8.jpg', 'Image_4.jpg', 'Image_9.jpg', 'Image_6.jpg', 'Image_10.jpg']\n",
            "----------------------------------------\n",
            "Directory: /root/.cache/kagglehub/datasets/kritikseth/fruit-and-vegetable-image-recognition/versions/8/test/sweetcorn\n",
            "Subdirectories: []\n",
            "Files: ['Image_7.jpg', 'Image_1.jpg', 'Image_5.jpg', 'Image_3.jpg', 'Image_2.jpg', 'Image_8.jpg', 'Image_4.jpg', 'Image_9.jpg', 'Image_6.jpg', 'Image_10.jpg']\n",
            "----------------------------------------\n",
            "Directory: /root/.cache/kagglehub/datasets/kritikseth/fruit-and-vegetable-image-recognition/versions/8/test/lemon\n",
            "Subdirectories: []\n",
            "Files: ['Image_7.jpg', 'Image_5.jpg', 'Image_3.jpg', 'Image_2.jpg', 'Image_1.png', 'Image_8.jpg', 'Image_4.jpg', 'Image_6.png', 'Image_10.jpg', 'Image_9.png']\n",
            "----------------------------------------\n",
            "Directory: /root/.cache/kagglehub/datasets/kritikseth/fruit-and-vegetable-image-recognition/versions/8/test/carrot\n",
            "Subdirectories: []\n",
            "Files: ['Image_1.jpg', 'Image_5.jpg', 'Image_3.jpg', 'Image_2.jpg', 'Image_7.JPG', 'Image_8.jpg', 'Image_4.png', 'Image_9.jpeg', 'Image_6.jpg', 'Image_10.jpg']\n",
            "----------------------------------------\n",
            "Directory: /root/.cache/kagglehub/datasets/kritikseth/fruit-and-vegetable-image-recognition/versions/8/test/pomegranate\n",
            "Subdirectories: []\n",
            "Files: ['Image_7.jpg', 'Image_1.jpg', 'Image_5.jpg', 'Image_3.jpg', 'Image_2.jpg', 'Image_8.jpg', 'Image_4.jpg', 'Image_9.jpg', 'Image_6.jpg', 'Image_10.jpg']\n",
            "----------------------------------------\n",
            "Directory: /root/.cache/kagglehub/datasets/kritikseth/fruit-and-vegetable-image-recognition/versions/8/test/watermelon\n",
            "Subdirectories: []\n",
            "Files: ['Image_7.jpg', 'Image_1.jpg', 'Image_5.jpg', 'Image_3.jpg', 'Image_2.jpg', 'Image_8.jpg', 'Image_4.jpg', 'Image_9.jpg', 'Image_6.jpg', 'Image_10.jpg']\n",
            "----------------------------------------\n",
            "Directory: /root/.cache/kagglehub/datasets/kritikseth/fruit-and-vegetable-image-recognition/versions/8/test/corn\n",
            "Subdirectories: []\n",
            "Files: ['Image_7.jpg', 'Image_1.jpg', 'Image_5.jpg', 'Image_3.jpg', 'Image_2.jpg', 'Image_8.jpg', 'Image_4.jpg', 'Image_9.jpg', 'Image_6.jpg', 'Image_10.jpg']\n",
            "----------------------------------------\n",
            "Directory: /root/.cache/kagglehub/datasets/kritikseth/fruit-and-vegetable-image-recognition/versions/8/test/pear\n",
            "Subdirectories: []\n",
            "Files: ['Image_7.jpg', 'Image_1.jpg', 'Image_5.jpg', 'Image_3.jpg', 'Image_2.jpg', 'Image_8.jpg', 'Image_4.jpg', 'Image_9.jpg', 'Image_6.jpg', 'Image_10.jpg']\n",
            "----------------------------------------\n",
            "Directory: /root/.cache/kagglehub/datasets/kritikseth/fruit-and-vegetable-image-recognition/versions/8/test/beetroot\n",
            "Subdirectories: []\n",
            "Files: ['Image_7.jpg', 'Image_1.jpg', 'Image_5.jpg', 'Image_3.jpg', 'Image_2.jpg', 'Image_8.jpg', 'Image_4.jpg', 'Image_9.jpg', 'Image_6.jpg', 'Image_10.jpg']\n",
            "----------------------------------------\n",
            "Directory: /root/.cache/kagglehub/datasets/kritikseth/fruit-and-vegetable-image-recognition/versions/8/test/grapes\n",
            "Subdirectories: []\n",
            "Files: ['Image_1.jpg', 'Image_3.jpg', 'Image_2.jpg', 'Image_5.jpeg', 'Image_7.JPG', 'Image_8.jpg', 'Image_4.jpg', 'Image_9.jpg', 'Image_6.jpg', 'Image_10.jpg']\n",
            "----------------------------------------\n",
            "Directory: /root/.cache/kagglehub/datasets/kritikseth/fruit-and-vegetable-image-recognition/versions/8/test/orange\n",
            "Subdirectories: []\n",
            "Files: ['Image_7.jpg', 'Image_5.jpg', 'Image_3.jpg', 'Image_2.jpg', 'Image_1.png', 'Image_4.jpg', 'Image_9.jpg', 'Image_10.png', 'Image_8.jpeg', 'Image_6.jpg']\n",
            "----------------------------------------\n",
            "Directory: /root/.cache/kagglehub/datasets/kritikseth/fruit-and-vegetable-image-recognition/versions/8/test/apple\n",
            "Subdirectories: []\n",
            "Files: ['Image_7.jpg', 'Image_1.jpg', 'Image_5.jpg', 'Image_3.jpg', 'Image_2.jpg', 'Image_6.JPG', 'Image_8.jpg', 'Image_4.jpg', 'Image_9.jpg', 'Image_10.jpg']\n",
            "----------------------------------------\n",
            "Directory: /root/.cache/kagglehub/datasets/kritikseth/fruit-and-vegetable-image-recognition/versions/8/test/jalepeno\n",
            "Subdirectories: []\n",
            "Files: ['Image_7.jpg', 'Image_5.jpg', 'Image_3.jpg', 'Image_2.jpg', 'Image_1.jpeg', 'Image_8.jpg', 'Image_4.jpg', 'Image_9.jpg', 'Image_6.jpg', 'Image_10.jpg']\n",
            "----------------------------------------\n",
            "Directory: /root/.cache/kagglehub/datasets/kritikseth/fruit-and-vegetable-image-recognition/versions/8/test/potato\n",
            "Subdirectories: []\n",
            "Files: ['Image_7.jpg', 'Image_1.jpg', 'Image_3.jpg', 'Image_2.jpg', 'Image_8.jpg', 'Image_4.jpg', 'Image_9.jpg', 'Image_5.JPG', 'Image_6.jpg', 'Image_10.jpg']\n",
            "----------------------------------------\n",
            "Directory: /root/.cache/kagglehub/datasets/kritikseth/fruit-and-vegetable-image-recognition/versions/8/test/cabbage\n",
            "Subdirectories: []\n",
            "Files: ['Image_7.jpg', 'Image_1.jpg', 'Image_5.jpg', 'Image_3.jpg', 'Image_2.jpg', 'Image_8.jpg', 'Image_4.jpg', 'Image_9.jpg', 'Image_6.jpg', 'Image_10.jpg']\n",
            "----------------------------------------\n",
            "Directory: /root/.cache/kagglehub/datasets/kritikseth/fruit-and-vegetable-image-recognition/versions/8/test/turnip\n",
            "Subdirectories: []\n",
            "Files: ['Image_7.jpg', 'Image_1.jpg', 'Image_5.jpg', 'Image_3.jpg', 'Image_2.jpg', 'Image_8.jpg', 'Image_4.jpg', 'Image_9.jpg', 'Image_6.jpg', 'Image_10.jpg']\n",
            "----------------------------------------\n",
            "Directory: /root/.cache/kagglehub/datasets/kritikseth/fruit-and-vegetable-image-recognition/versions/8/test/pineapple\n",
            "Subdirectories: []\n",
            "Files: ['Image_7.jpg', 'Image_1.jpg', 'Image_5.jpg', 'Image_3.jpg', 'Image_2.jpg', 'Image_8.jpg', 'Image_4.jpg', 'Image_9.jpg', 'Image_6.jpg', 'Image_10.jpg']\n",
            "----------------------------------------\n",
            "Directory: /root/.cache/kagglehub/datasets/kritikseth/fruit-and-vegetable-image-recognition/versions/8/test/lettuce\n",
            "Subdirectories: []\n",
            "Files: ['Image_7.jpg', 'Image_1.jpg', 'Image_3.jpg', 'Image_2.jpg', 'Image_5.jpeg', 'Image_8.jpg', 'Image_4.jpg', 'Image_9.jpg', 'Image_6.jpg', 'Image_10.jpg']\n",
            "----------------------------------------\n",
            "Directory: /root/.cache/kagglehub/datasets/kritikseth/fruit-and-vegetable-image-recognition/versions/8/test/raddish\n",
            "Subdirectories: []\n",
            "Files: ['Image_7.jpg', 'Image_1.jpg', 'Image_3.jpg', 'Image_2.jpg', 'Image_8.jpg', 'Image_4.jpg', 'Image_5.png', 'Image_9.jpeg', 'Image_6.jpg', 'Image_10.jpg']\n",
            "----------------------------------------\n",
            "Directory: /root/.cache/kagglehub/datasets/kritikseth/fruit-and-vegetable-image-recognition/versions/8/test/soy beans\n",
            "Subdirectories: []\n",
            "Files: ['Image_7.jpg', 'Image_1.jpg', 'Image_5.jpg', 'Image_3.jpg', 'Image_2.jpg', 'Image_8.jpg', 'Image_4.jpg', 'Image_9.jpg', 'Image_6.jpg', 'Image_10.jpg']\n",
            "----------------------------------------\n",
            "Directory: /root/.cache/kagglehub/datasets/kritikseth/fruit-and-vegetable-image-recognition/versions/8/test/spinach\n",
            "Subdirectories: []\n",
            "Files: ['Image_7.jpg', 'Image_1.jpg', 'Image_5.jpg', 'Image_3.jpg', 'Image_2.jpg', 'Image_8.jpg', 'Image_4.jpg', 'Image_9.jpg', 'Image_6.jpg', 'Image_10.jpg']\n",
            "----------------------------------------\n",
            "Directory: /root/.cache/kagglehub/datasets/kritikseth/fruit-and-vegetable-image-recognition/versions/8/test/bell pepper\n",
            "Subdirectories: []\n",
            "Files: ['Image_7.jpg', 'Image_1.jpg', 'Image_5.jpg', 'Image_2.jpg', 'Image_3.jpeg', 'Image_8.jpg', 'Image_4.jpg', 'Image_9.jpg', 'Image_6.jpg', 'Image_10.jpg']\n",
            "----------------------------------------\n",
            "Directory: /root/.cache/kagglehub/datasets/kritikseth/fruit-and-vegetable-image-recognition/versions/8/test/banana\n",
            "Subdirectories: []\n",
            "Files: ['Image_1.jpg', 'Image_5.jpg', 'Image_3.jpg', 'Image_2.jpg', 'Image_8.jpg', 'Image_4.jpg', 'Image_9.jpg', 'Image_6.jpg', 'Image_10.jpg']\n",
            "----------------------------------------\n",
            "Directory: /root/.cache/kagglehub/datasets/kritikseth/fruit-and-vegetable-image-recognition/versions/8/test/mango\n",
            "Subdirectories: []\n",
            "Files: ['Image_7.jpg', 'Image_1.jpg', 'Image_5.jpg', 'Image_3.jpg', 'Image_2.jpg', 'Image_8.jpg', 'Image_4.jpg', 'Image_9.jpg', 'Image_6.jpg', 'Image_10.jpg']\n",
            "----------------------------------------\n",
            "Directory: /root/.cache/kagglehub/datasets/kritikseth/fruit-and-vegetable-image-recognition/versions/8/test/ginger\n",
            "Subdirectories: []\n",
            "Files: ['Image_7.jpg', 'Image_1.jpg', 'Image_5.jpg', 'Image_3.jpg', 'Image_2.jpg', 'Image_8.jpg', 'Image_4.jpg', 'Image_9.jpg', 'Image_6.jpg', 'Image_10.jpg']\n",
            "----------------------------------------\n",
            "Directory: /root/.cache/kagglehub/datasets/kritikseth/fruit-and-vegetable-image-recognition/versions/8/test/cauliflower\n",
            "Subdirectories: []\n",
            "Files: ['Image_7.jpg', 'Image_1.jpg', 'Image_3.jpg', 'Image_2.jpg', 'Image_8.jpg', 'Image_4.jpg', 'Image_9.jpg', 'Image_5.JPG', 'Image_6.jpg', 'Image_10.jpg']\n",
            "----------------------------------------\n",
            "Directory: /root/.cache/kagglehub/datasets/kritikseth/fruit-and-vegetable-image-recognition/versions/8/test/chilli pepper\n",
            "Subdirectories: []\n",
            "Files: ['Image_2.png', 'Image_7.jpg', 'Image_1.jpg', 'Image_3.jpg', 'Image_6.jpeg', 'Image_8.jpg', 'Image_4.jpg', 'Image_9.jpg', 'Image_5.png', 'Image_10.jpg']\n",
            "----------------------------------------\n",
            "Directory: /root/.cache/kagglehub/datasets/kritikseth/fruit-and-vegetable-image-recognition/versions/8/test/capsicum\n",
            "Subdirectories: []\n",
            "Files: ['Image_7.jpg', 'Image_1.jpg', 'Image_5.jpg', 'Image_2.jpg', 'Image_8.jpg', 'Image_4.jpg', 'Image_9.jpg', 'Image_6.jpg', 'Image_10.jpg', 'Image_3.JPG']\n",
            "----------------------------------------\n",
            "Directory: /root/.cache/kagglehub/datasets/kritikseth/fruit-and-vegetable-image-recognition/versions/8/test/tomato\n",
            "Subdirectories: []\n",
            "Files: ['Image_7.jpg', 'Image_1.jpg', 'Image_5.jpg', 'Image_3.jpg', 'Image_2.jpg', 'Image_8.jpg', 'Image_4.jpg', 'Image_9.jpg', 'Image_6.jpg', 'Image_10.jpg']\n",
            "----------------------------------------\n",
            "Directory: /root/.cache/kagglehub/datasets/kritikseth/fruit-and-vegetable-image-recognition/versions/8/test/kiwi\n",
            "Subdirectories: []\n",
            "Files: ['Image_7.jpg', 'Image_1.jpg', 'Image_5.jpg', 'Image_3.jpg', 'Image_2.jpg', 'Image_8.jpg', 'Image_4.jpg', 'Image_9.jpg', 'Image_6.jpg', 'Image_10.jpg']\n",
            "----------------------------------------\n",
            "Directory: /root/.cache/kagglehub/datasets/kritikseth/fruit-and-vegetable-image-recognition/versions/8/test/paprika\n",
            "Subdirectories: []\n",
            "Files: ['Image_7.jpg', 'Image_1.jpg', 'Image_5.jpg', 'Image_3.jpg', 'Image_2.jpg', 'Image_8.jpg', 'Image_4.jpg', 'Image_9.jpg', 'Image_6.jpg', 'Image_10.jpg']\n",
            "----------------------------------------\n"
          ]
        }
      ],
      "source": [
        "import os\n",
        "\n",
        "dataset_path = \"/root/.cache/kagglehub/datasets/kritikseth/fruit-and-vegetable-image-recognition/versions/8\"  # Update this path to the downloaded dataset\n",
        "for root, dirs, files in os.walk(dataset_path):\n",
        "    print(f\"Directory: {root}\")\n",
        "    print(f\"Subdirectories: {dirs}\")\n",
        "    print(f\"Files: {files}\")\n",
        "    print(\"-\" * 40)"
      ]
    },
    {
      "cell_type": "code",
      "source": [
        "image_files = []\n",
        "for root, dirs, files in os.walk(dataset_path):\n",
        "    for file in files:\n",
        "        if file.endswith(('.jpg', '.png', '.jpeg')):  # Add image extensions\n",
        "            image_files.append(os.path.join(root, file))\n",
        "\n",
        "# Display a few image paths\n",
        "print(\"Sample image files:\", image_files[:10])"
      ],
      "metadata": {
        "colab": {
          "base_uri": "https://localhost:8080/"
        },
        "id": "KNiE9JAdJxgV",
        "outputId": "37c43189-570d-4fc8-e51b-ea9039762605"
      },
      "execution_count": 13,
      "outputs": [
        {
          "output_type": "stream",
          "name": "stdout",
          "text": [
            "Sample image files: ['/root/.cache/kagglehub/datasets/kritikseth/fruit-and-vegetable-image-recognition/versions/8/validation/sweetpotato/Image_7.jpg', '/root/.cache/kagglehub/datasets/kritikseth/fruit-and-vegetable-image-recognition/versions/8/validation/sweetpotato/Image_1.jpg', '/root/.cache/kagglehub/datasets/kritikseth/fruit-and-vegetable-image-recognition/versions/8/validation/sweetpotato/Image_5.jpg', '/root/.cache/kagglehub/datasets/kritikseth/fruit-and-vegetable-image-recognition/versions/8/validation/sweetpotato/Image_3.jpg', '/root/.cache/kagglehub/datasets/kritikseth/fruit-and-vegetable-image-recognition/versions/8/validation/sweetpotato/Image_2.jpg', '/root/.cache/kagglehub/datasets/kritikseth/fruit-and-vegetable-image-recognition/versions/8/validation/sweetpotato/Image_8.jpg', '/root/.cache/kagglehub/datasets/kritikseth/fruit-and-vegetable-image-recognition/versions/8/validation/sweetpotato/Image_4.jpg', '/root/.cache/kagglehub/datasets/kritikseth/fruit-and-vegetable-image-recognition/versions/8/validation/sweetpotato/Image_9.jpg', '/root/.cache/kagglehub/datasets/kritikseth/fruit-and-vegetable-image-recognition/versions/8/validation/sweetpotato/Image_6.jpg', '/root/.cache/kagglehub/datasets/kritikseth/fruit-and-vegetable-image-recognition/versions/8/validation/sweetpotato/Image_10.jpg']\n"
          ]
        }
      ]
    },
    {
      "cell_type": "code",
      "execution_count": 4,
      "metadata": {
        "colab": {
          "base_uri": "https://localhost:8080/"
        },
        "id": "1wvrMMiwM96h",
        "outputId": "6eeb424d-05f8-4f9b-9656-9276197026eb"
      },
      "outputs": [
        {
          "output_type": "stream",
          "name": "stdout",
          "text": [
            "['validation', 'train', 'test']\n"
          ]
        }
      ],
      "source": [
        "image_files = os.listdir(dataset_path)\n",
        "print(image_files[:10])  # Print the first 10 files"
      ]
    },
    {
      "cell_type": "code",
      "execution_count": 5,
      "metadata": {
        "colab": {
          "base_uri": "https://localhost:8080/"
        },
        "id": "MZ4zJB_nDJOy",
        "outputId": "60796032-bc06-4979-a52c-c2c398468504"
      },
      "outputs": [
        {
          "output_type": "stream",
          "name": "stdout",
          "text": [
            "Found 3825 files belonging to 3 classes.\n",
            "Using 3060 files for training.\n",
            "Found 3825 files belonging to 3 classes.\n",
            "Using 765 files for validation.\n"
          ]
        }
      ],
      "source": [
        "import tensorflow as tf\n",
        "\n",
        "batch_size = 32\n",
        "img_height, img_width = 224, 224\n",
        "\n",
        "train_data = tf.keras.preprocessing.image_dataset_from_directory(\n",
        "    dataset_path,\n",
        "    validation_split=0.2,\n",
        "    subset=\"training\",\n",
        "    seed=123,\n",
        "    image_size=(img_height, img_width),\n",
        "    batch_size=batch_size\n",
        ")\n",
        "\n",
        "val_data = tf.keras.preprocessing.image_dataset_from_directory(\n",
        "    dataset_path,\n",
        "    validation_split=0.2,\n",
        "    subset=\"validation\",\n",
        "    seed=123,\n",
        "    image_size=(img_height, img_width),\n",
        "    batch_size=batch_size\n",
        ")\n",
        "\n",
        "# Optimize dataset performance\n",
        "AUTOTUNE = tf.data.AUTOTUNE\n",
        "train_data = train_data.prefetch(buffer_size=AUTOTUNE)\n",
        "val_data = val_data.prefetch(buffer_size=AUTOTUNE)\n"
      ]
    },
    {
      "cell_type": "code",
      "execution_count": 6,
      "metadata": {
        "id": "4MfjC3j_GOm_"
      },
      "outputs": [],
      "source": [
        "from tensorflow.keras.applications import ResNet50\n",
        "from tensorflow.keras.layers import Dense, GlobalAveragePooling2D\n",
        "from tensorflow.keras.models import Model\n",
        "\n",
        "# Load Pre-trained ResNet50\n",
        "base_model = ResNet50(weights='imagenet', include_top=False, input_shape=(224, 224, 3))\n",
        "for layer in base_model.layers:\n",
        "    layer.trainable = False  # Freeze base model layers\n",
        "\n",
        "# Add Custom Layers\n",
        "x = base_model.output\n",
        "x = GlobalAveragePooling2D()(x)\n",
        "x = Dense(128, activation='relu')(x)\n",
        "output = Dense(1, activation='sigmoid')(x)  # Binary classification\n",
        "\n",
        "model = Model(inputs=base_model.input, outputs=output)\n",
        "\n",
        "# Compile Model\n",
        "model.compile(optimizer='adam', loss='binary_crossentropy', metrics=['accuracy'])\n"
      ]
    },
    {
      "cell_type": "code",
      "execution_count": 7,
      "metadata": {
        "colab": {
          "base_uri": "https://localhost:8080/"
        },
        "id": "O1jxhUG6GThR",
        "outputId": "e6b6cd0f-6e5f-47d3-f871-81426d3122fd"
      },
      "outputs": [
        {
          "output_type": "stream",
          "name": "stdout",
          "text": [
            "Epoch 1/10\n",
            "\u001b[1m96/96\u001b[0m \u001b[32m━━━━━━━━━━━━━━━━━━━━\u001b[0m\u001b[37m\u001b[0m \u001b[1m96s\u001b[0m 839ms/step - accuracy: 0.8067 - loss: 0.0337 - val_accuracy: 0.8261 - val_loss: 0.7749\n",
            "Epoch 2/10\n",
            "\u001b[1m96/96\u001b[0m \u001b[32m━━━━━━━━━━━━━━━━━━━━\u001b[0m\u001b[37m\u001b[0m \u001b[1m125s\u001b[0m 744ms/step - accuracy: 0.8112 - loss: -0.6010 - val_accuracy: 0.8261 - val_loss: 1.0582\n",
            "Epoch 3/10\n",
            "\u001b[1m96/96\u001b[0m \u001b[32m━━━━━━━━━━━━━━━━━━━━\u001b[0m\u001b[37m\u001b[0m \u001b[1m89s\u001b[0m 820ms/step - accuracy: 0.8132 - loss: -0.7228 - val_accuracy: 0.8261 - val_loss: 1.3827\n",
            "Epoch 4/10\n",
            "\u001b[1m96/96\u001b[0m \u001b[32m━━━━━━━━━━━━━━━━━━━━\u001b[0m\u001b[37m\u001b[0m \u001b[1m81s\u001b[0m 807ms/step - accuracy: 0.8157 - loss: -0.7349 - val_accuracy: 0.8261 - val_loss: 1.8951\n",
            "Epoch 5/10\n",
            "\u001b[1m96/96\u001b[0m \u001b[32m━━━━━━━━━━━━━━━━━━━━\u001b[0m\u001b[37m\u001b[0m \u001b[1m84s\u001b[0m 832ms/step - accuracy: 0.8189 - loss: -0.7909 - val_accuracy: 0.8261 - val_loss: 2.1826\n",
            "Epoch 6/10\n",
            "\u001b[1m96/96\u001b[0m \u001b[32m━━━━━━━━━━━━━━━━━━━━\u001b[0m\u001b[37m\u001b[0m \u001b[1m81s\u001b[0m 825ms/step - accuracy: 0.8143 - loss: -1.2010 - val_accuracy: 0.8261 - val_loss: 2.7168\n",
            "Epoch 7/10\n",
            "\u001b[1m96/96\u001b[0m \u001b[32m━━━━━━━━━━━━━━━━━━━━\u001b[0m\u001b[37m\u001b[0m \u001b[1m82s\u001b[0m 821ms/step - accuracy: 0.8123 - loss: -1.5828 - val_accuracy: 0.8261 - val_loss: 3.3317\n",
            "Epoch 8/10\n",
            "\u001b[1m96/96\u001b[0m \u001b[32m━━━━━━━━━━━━━━━━━━━━\u001b[0m\u001b[37m\u001b[0m \u001b[1m83s\u001b[0m 831ms/step - accuracy: 0.8116 - loss: -1.7798 - val_accuracy: 0.8261 - val_loss: 3.7459\n",
            "Epoch 9/10\n",
            "\u001b[1m96/96\u001b[0m \u001b[32m━━━━━━━━━━━━━━━━━━━━\u001b[0m\u001b[37m\u001b[0m \u001b[1m75s\u001b[0m 764ms/step - accuracy: 0.8114 - loss: -2.1315 - val_accuracy: 0.8261 - val_loss: 4.4080\n",
            "Epoch 10/10\n",
            "\u001b[1m96/96\u001b[0m \u001b[32m━━━━━━━━━━━━━━━━━━━━\u001b[0m\u001b[37m\u001b[0m \u001b[1m81s\u001b[0m 758ms/step - accuracy: 0.8112 - loss: -2.2133 - val_accuracy: 0.8261 - val_loss: 5.2883\n"
          ]
        }
      ],
      "source": [
        "history = model.fit(\n",
        "    train_data,\n",
        "    validation_data=val_data,\n",
        "    epochs=10\n",
        ")"
      ]
    },
    {
      "cell_type": "code",
      "execution_count": 8,
      "metadata": {
        "colab": {
          "base_uri": "https://localhost:8080/"
        },
        "id": "-DRribzGGfhp",
        "outputId": "a2c9f436-89e0-4f06-e5c1-0ed0bbcd009f"
      },
      "outputs": [
        {
          "output_type": "stream",
          "name": "stdout",
          "text": [
            "\u001b[1m24/24\u001b[0m \u001b[32m━━━━━━━━━━━━━━━━━━━━\u001b[0m\u001b[37m\u001b[0m \u001b[1m14s\u001b[0m 599ms/step - accuracy: 0.8347 - loss: 4.5520\n",
            "Validation Accuracy: 82.61%\n"
          ]
        }
      ],
      "source": [
        "test_loss, test_accuracy = model.evaluate(val_data)\n",
        "print(f\"Validation Accuracy: {test_accuracy * 100:.2f}%\")"
      ]
    },
    {
      "cell_type": "code",
      "execution_count": 9,
      "metadata": {
        "colab": {
          "base_uri": "https://localhost:8080/"
        },
        "id": "n34N3Id7KHAF",
        "outputId": "81aa3388-0182-4cb6-cf4a-6a89e105a343"
      },
      "outputs": [
        {
          "output_type": "stream",
          "name": "stderr",
          "text": [
            "WARNING:absl:You are saving your model as an HDF5 file via `model.save()` or `keras.saving.save_model(model)`. This file format is considered legacy. We recommend using instead the native Keras format, e.g. `model.save('my_model.keras')` or `keras.saving.save_model(model, 'my_model.keras')`. \n"
          ]
        }
      ],
      "source": [
        "model.save('fruit_vegetable_classifier.h5')\n"
      ]
    },
    {
      "cell_type": "code",
      "execution_count": 10,
      "metadata": {
        "id": "EJ3Zp1pQKhyh"
      },
      "outputs": [],
      "source": [
        "# Save the Model in Native Keras Format\n",
        "model.save('fruit_vegetable_classifier.keras')"
      ]
    },
    {
      "cell_type": "code",
      "execution_count": 11,
      "metadata": {
        "colab": {
          "base_uri": "https://localhost:8080/",
          "height": 843
        },
        "id": "ReMgC1AKLEBD",
        "outputId": "c2b5aa49-202e-417e-c43e-b4a9e93f58a2"
      },
      "outputs": [
        {
          "output_type": "display_data",
          "data": {
            "text/plain": [
              "<Figure size 640x480 with 1 Axes>"
            ],
            "image/png": "[encoded data removed]"
          },
          "metadata": {}
        },
        {
          "output_type": "display_data",
          "data": {
            "text/plain": [
              "<Figure size 640x480 with 1 Axes>"
            ],
            "image/png": "[encoded data removed]"
          },
          "metadata": {}
        }
      ],
      "source": [
        "# Visualize Training Progress\n",
        "import matplotlib.pyplot as plt\n",
        "\n",
        "# Plot Accuracy\n",
        "plt.plot(history.history['accuracy'], label='Training Accuracy')\n",
        "plt.plot(history.history['val_accuracy'], label='Validation Accuracy')\n",
        "plt.legend()\n",
        "plt.show()\n",
        "\n",
        "# Plot Loss\n",
        "plt.plot(history.history['loss'], label='Training Loss')\n",
        "plt.plot(history.history['val_loss'], label='Validation Loss')\n",
        "plt.legend()\n",
        "plt.show()"
      ]
    },
    {
      "cell_type": "code",
      "source": [
        "from tensorflow.keras.preprocessing import image\n",
        "import numpy as np\n",
        "\n",
        "# Load and preprocess a single image\n",
        "img = image.load_img('/root/.cache/kagglehub/datasets/kritikseth/fruit-and-vegetable-image-recognition/versions/8/train/tomato/Image_54.jpg', target_size=(224, 224))\n",
        "img_array = image.img_to_array(img) / 255.0\n",
        "img_array = np.expand_dims(img_array, axis=0)\n",
        "\n",
        "# Predict\n",
        "prediction = model.predict(img_array)\n",
        "category = \"Fruit\" if prediction[0][0] < 0.5 else \"Vegetable\"\n",
        "print(f\"The image is classified as: {category}\")"
      ],
      "metadata": {
        "colab": {
          "base_uri": "https://localhost:8080/"
        },
        "id": "OqEpEW6iKwvy",
        "outputId": "51b81172-b53e-404b-881a-f51c776c673a"
      },
      "execution_count": 20,
      "outputs": [
        {
          "output_type": "stream",
          "name": "stdout",
          "text": [
            "\u001b[1m1/1\u001b[0m \u001b[32m━━━━━━━━━━━━━━━━━━━━\u001b[0m\u001b[37m\u001b[0m \u001b[1m0s\u001b[0m 23ms/step\n",
            "The image is classified as: Vegetable\n"
          ]
        }
      ]
    }
  ],
  "metadata": {
    "accelerator": "GPU",
    "colab": {
      "gpuType": "T4",
      "provenance": []
    },
    "kernelspec": {
      "display_name": "Python 3",
      "name": "python3"
    },
    "language_info": {
      "name": "python"
    }
  },
  "nbformat": 4,
  "nbformat_minor": 0
}